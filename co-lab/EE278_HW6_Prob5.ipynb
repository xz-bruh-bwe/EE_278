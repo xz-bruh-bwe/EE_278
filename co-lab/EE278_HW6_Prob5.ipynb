{
  "nbformat": 4,
  "nbformat_minor": 0,
  "metadata": {
    "colab": {
      "provenance": [],
      "gpuType": "T4"
    },
    "kernelspec": {
      "name": "python3",
      "display_name": "Python 3"
    },
    "language_info": {
      "name": "python"
    },
    "accelerator": "GPU"
  },
  "cells": [
    {
      "cell_type": "code",
      "execution_count": null,
      "metadata": {
        "colab": {
          "base_uri": "https://localhost:8080/"
        },
        "id": "RjQpTM4TBkd5",
        "outputId": "0ce7fa87-0f91-4128-f2f2-c3c1c9b2de45"
      },
      "outputs": [
        {
          "output_type": "stream",
          "name": "stdout",
          "text": [
            "nvcc: NVIDIA (R) Cuda compiler driver\n",
            "Copyright (c) 2005-2023 NVIDIA Corporation\n",
            "Built on Tue_Aug_15_22:02:13_PDT_2023\n",
            "Cuda compilation tools, release 12.2, V12.2.140\n",
            "Build cuda_12.2.r12.2/compiler.33191640_0\n"
          ]
        }
      ],
      "source": [
        "!nvcc --version  # To check if CUDA is available"
      ]
    },
    {
      "cell_type": "code",
      "source": [
        "print('in progress')"
      ],
      "metadata": {
        "colab": {
          "base_uri": "https://localhost:8080/"
        },
        "id": "ZDTJRULqB4cW",
        "outputId": "9269caea-e1c7-40b6-fa9e-429c5fd9c967"
      },
      "execution_count": null,
      "outputs": [
        {
          "output_type": "stream",
          "name": "stdout",
          "text": [
            "in progress\n"
          ]
        }
      ]
    },
    {
      "cell_type": "code",
      "source": [
        "!pip install git+https://github.com/andreinechaev/nvcc4jupyter.git\n"
      ],
      "metadata": {
        "colab": {
          "base_uri": "https://localhost:8080/"
        },
        "id": "HaMdvOUeB_LO",
        "outputId": "35d552e9-5364-4e3a-fbac-3048d0a91296"
      },
      "execution_count": null,
      "outputs": [
        {
          "output_type": "stream",
          "name": "stdout",
          "text": [
            "Collecting git+https://github.com/andreinechaev/nvcc4jupyter.git\n",
            "  Cloning https://github.com/andreinechaev/nvcc4jupyter.git to /tmp/pip-req-build-dp041geu\n",
            "  Running command git clone --filter=blob:none --quiet https://github.com/andreinechaev/nvcc4jupyter.git /tmp/pip-req-build-dp041geu\n",
            "  Resolved https://github.com/andreinechaev/nvcc4jupyter.git to commit 28f872a2f99a1b201bcd0db14fdbc5a496b9bfd7\n",
            "  Installing build dependencies ... \u001b[?25l\u001b[?25hdone\n",
            "  Getting requirements to build wheel ... \u001b[?25l\u001b[?25hdone\n",
            "  Preparing metadata (pyproject.toml) ... \u001b[?25l\u001b[?25hdone\n",
            "Building wheels for collected packages: nvcc4jupyter\n",
            "  Building wheel for nvcc4jupyter (pyproject.toml) ... \u001b[?25l\u001b[?25hdone\n",
            "  Created wheel for nvcc4jupyter: filename=nvcc4jupyter-1.2.1-py3-none-any.whl size=10733 sha256=25d7336482e00933626da974c4579936e1bcd2169b147b54a7d099795d56a4e1\n",
            "  Stored in directory: /tmp/pip-ephem-wheel-cache-otgtrrjw/wheels/a8/b9/18/23f8ef71ceb0f63297dd1903aedd067e6243a68ea756d6feea\n",
            "Successfully built nvcc4jupyter\n",
            "Installing collected packages: nvcc4jupyter\n",
            "Successfully installed nvcc4jupyter-1.2.1\n"
          ]
        }
      ]
    },
    {
      "cell_type": "code",
      "source": [
        "pip install nvcc4jupyter\n"
      ],
      "metadata": {
        "colab": {
          "base_uri": "https://localhost:8080/"
        },
        "id": "5LO7sgQGDl7T",
        "outputId": "2956c899-0ca0-4886-c3f8-a9bb1bcc263f"
      },
      "execution_count": null,
      "outputs": [
        {
          "output_type": "stream",
          "name": "stdout",
          "text": [
            "Requirement already satisfied: nvcc4jupyter in /usr/local/lib/python3.10/dist-packages (1.2.1)\n"
          ]
        }
      ]
    },
    {
      "cell_type": "code",
      "source": [
        "%load_ext nvcc4jupyter\n",
        "%reload_ext nvcc4jupyter\n",
        "\n"
      ],
      "metadata": {
        "colab": {
          "base_uri": "https://localhost:8080/"
        },
        "id": "rEUWh1cqDHCf",
        "outputId": "decfb736-5b81-4844-e62f-e91856c117a7"
      },
      "execution_count": null,
      "outputs": [
        {
          "output_type": "stream",
          "name": "stdout",
          "text": [
            "The nvcc4jupyter extension is already loaded. To reload it, use:\n",
            "  %reload_ext nvcc4jupyter\n",
            "Detected platform \"Colab\". Running its setup...\n",
            "Source files will be saved in \"/tmp/tmpqqjq5_wy\".\n"
          ]
        }
      ]
    },
    {
      "cell_type": "code",
      "source": [],
      "metadata": {
        "id": "sMi-5H6CE89q"
      },
      "execution_count": null,
      "outputs": []
    },
    {
      "cell_type": "code",
      "source": [
        "from google.colab import drive\n",
        "drive.mount('/content/gdrive')\n",
        "\n",
        "%cd /content/gdrive/MyDrive/GPU_prog\n",
        "\n",
        "#%%writefile file_name.cu"
      ],
      "metadata": {
        "colab": {
          "base_uri": "https://localhost:8080/"
        },
        "id": "xdj1lKu1CMWo",
        "outputId": "dffc7d81-25bd-48cf-ff4a-bef322b0b570"
      },
      "execution_count": null,
      "outputs": [
        {
          "output_type": "stream",
          "name": "stdout",
          "text": [
            "Drive already mounted at /content/gdrive; to attempt to forcibly remount, call drive.mount(\"/content/gdrive\", force_remount=True).\n",
            "/content/gdrive/MyDrive/GPU_prog\n"
          ]
        }
      ]
    },
    {
      "cell_type": "code",
      "source": [],
      "metadata": {
        "id": "0E9sFw59CQzP"
      },
      "execution_count": null,
      "outputs": []
    },
    {
      "cell_type": "code",
      "source": [
        "!nvcc -o compile_file_name HW6_Prob5.cu\n"
      ],
      "metadata": {
        "colab": {
          "base_uri": "https://localhost:8080/"
        },
        "id": "Xq4TKj8VFosv",
        "outputId": "81c19e7c-2b27-4865-b875-b2f846ea72b5"
      },
      "execution_count": null,
      "outputs": [
        {
          "output_type": "stream",
          "name": "stdout",
          "text": [
            "/usr/bin/ld: /usr/lib/gcc/x86_64-linux-gnu/11/../../../x86_64-linux-gnu/Scrt1.o: in function `_start':\n",
            "(.text+0x1b): undefined reference to `main'\n",
            "collect2: error: ld returned 1 exit status\n"
          ]
        }
      ]
    },
    {
      "cell_type": "code",
      "source": [],
      "metadata": {
        "id": "ezo1KJcSF3YQ"
      },
      "execution_count": null,
      "outputs": []
    },
    {
      "cell_type": "markdown",
      "source": [
        "1. _global_ specifier\n",
        "\n",
        "\n",
        "\n",
        "*   CUDA C++ allows the programmer to define C++ functions, called kernels, that are executed\n",
        "𝑁\n",
        "N times in parallel by\n",
        "𝑁\n",
        "N different CUDA threads, as opposed to only once like regular C++ functions.\n",
        "*   A kernel is defined using the __global__ declaration specifier.\n",
        "\n",
        "\n",
        "*   The number of CUDA threads that execute the kernel for a given kernel call is specified using a new <<<...>>> execution configuration syntax.\n",
        "\n",
        "*  Each thread that executes the kernel is given a unique thread ID, which is accessible within the kernel through built-in variables.\n",
        "\n",
        "\n",
        "\n",
        "\n",
        "\n"
      ],
      "metadata": {
        "id": "oKxyB0bsF_cs"
      }
    },
    {
      "cell_type": "code",
      "source": [
        "%%writefile HW6_Prob5.cu\n",
        "#include <stdio.h>\n",
        "#include <iostream>\n",
        "#include <math.h>\n",
        "\n",
        "// Kernel function to add the elements of two arrays\n",
        "__global__\n",
        "void mul(int n, float *x, float *y)\n",
        "{\n",
        "    for (int i = 0; i < n; i++) {\n",
        "        y[i] = x[i] * y[i];\n",
        "    }\n",
        "}\n",
        "\n",
        "int main(void)\n",
        "{\n",
        "    int N = 1 << 20; // 1048576 number of elements\n",
        "    float *x, *y;\n",
        "    cudaEvent_t start, end;\n",
        "\n",
        "    // Allocate Unified Memory — accessible from CPU or GPU\n",
        "    cudaMallocManaged(&x, N * sizeof(float));\n",
        "    cudaMallocManaged(&y, N * sizeof(float));\n",
        "\n",
        "    // Initialize x and y arrays on the host\n",
        "    for (int i = 0; i < N; i++) {\n",
        "        x[i] = 1.0f;\n",
        "        y[i] = 2.0f;\n",
        "    }\n",
        "\n",
        "    cudaEventCreate(&start);\n",
        "    cudaEventCreate(&end);\n",
        "    cudaEventRecord(start);\n",
        "\n",
        "    // Run kernel on 1M elements on the GPU\n",
        "    mul<<<1, 1>>>(N, x, y);\n",
        "\n",
        "    cudaEventRecord(end);\n",
        "    // Wait for GPU to finish before accessing on host\n",
        "    cudaEventSynchronize(end);\n",
        "\n",
        "    float time = 0;\n",
        "    cudaEventElapsedTime(&time, start, end);\n",
        "\n",
        "    // Free memory\n",
        "    cudaFree(x);\n",
        "    cudaFree(y);\n",
        "\n",
        "    printf(\"The time required: %f\", time);\n",
        "    return 0;\n",
        "}"
      ],
      "metadata": {
        "colab": {
          "base_uri": "https://localhost:8080/"
        },
        "id": "PQmHC9Q9GCFK",
        "outputId": "7fee5775-6406-42b8-adb7-4d051013bd14"
      },
      "execution_count": null,
      "outputs": [
        {
          "output_type": "stream",
          "name": "stdout",
          "text": [
            "Overwriting HW6_Prob5.cu\n"
          ]
        }
      ]
    },
    {
      "cell_type": "code",
      "source": [
        "!nvcc -o HW6_Prob5 HW6_Prob5.cu #Establish the code"
      ],
      "metadata": {
        "id": "LX0nQIc4I3s4"
      },
      "execution_count": null,
      "outputs": []
    },
    {
      "cell_type": "code",
      "source": [
        "!./HW6_Prob5"
      ],
      "metadata": {
        "colab": {
          "base_uri": "https://localhost:8080/"
        },
        "id": "X6WGA-wEKP5Y",
        "outputId": "0fae47ed-d52d-4cd1-e268-4472e70bd852"
      },
      "execution_count": null,
      "outputs": [
        {
          "output_type": "stream",
          "name": "stdout",
          "text": [
            "The time required: 108.705757"
          ]
        }
      ]
    },
    {
      "cell_type": "code",
      "source": [
        "!nvprof ./HW6_Prob5 # Code to compile"
      ],
      "metadata": {
        "colab": {
          "base_uri": "https://localhost:8080/"
        },
        "id": "hPVvi9r6KR4_",
        "outputId": "b3952840-8f9d-40aa-c913-f917078f6104"
      },
      "execution_count": null,
      "outputs": [
        {
          "output_type": "stream",
          "name": "stdout",
          "text": [
            "==7094== NVPROF is profiling process 7094, command: ./HW6_Prob5\n",
            "The time required: 108.817123==7094== Profiling application: ./HW6_Prob5\n",
            "==7094== Profiling result:\n",
            "            Type  Time(%)      Time     Calls       Avg       Min       Max  Name\n",
            " GPU activities:  100.00%  108.62ms         1  108.62ms  108.62ms  108.62ms  mul(int, float*, float*)\n",
            "      API calls:   64.16%  196.03ms         2  98.013ms  44.540us  195.98ms  cudaMallocManaged\n",
            "                   35.55%  108.63ms         1  108.63ms  108.63ms  108.63ms  cudaEventSynchronize\n",
            "                    0.15%  458.22us         2  229.11us  223.41us  234.81us  cudaFree\n",
            "                    0.06%  192.35us         1  192.35us  192.35us  192.35us  cudaLaunchKernel\n",
            "                    0.04%  130.63us       114  1.1450us     137ns  51.404us  cuDeviceGetAttribute\n",
            "                    0.01%  40.508us         2  20.254us  1.4530us  39.055us  cudaEventCreate\n",
            "                    0.01%  23.658us         2  11.829us  3.4060us  20.252us  cudaEventRecord\n",
            "                    0.00%  11.032us         1  11.032us  11.032us  11.032us  cuDeviceGetName\n",
            "                    0.00%  5.2460us         1  5.2460us  5.2460us  5.2460us  cuDeviceGetPCIBusId\n",
            "                    0.00%  4.6020us         1  4.6020us  4.6020us  4.6020us  cuDeviceTotalMem\n",
            "                    0.00%  4.2270us         1  4.2270us  4.2270us  4.2270us  cudaEventElapsedTime\n",
            "                    0.00%  2.7350us         2  1.3670us     328ns  2.4070us  cuDeviceGet\n",
            "                    0.00%  1.4590us         3     486ns     202ns     882ns  cuDeviceGetCount\n",
            "                    0.00%     445ns         1     445ns     445ns     445ns  cuModuleGetLoadingMode\n",
            "                    0.00%     227ns         1     227ns     227ns     227ns  cuDeviceGetUuid\n",
            "\n",
            "==7094== Unified Memory profiling result:\n",
            "Device \"Tesla T4 (0)\"\n",
            "   Count  Avg Size  Min Size  Max Size  Total Size  Total Time  Name\n",
            "      48  170.67KB  4.0000KB  0.9961MB  8.000000MB  809.1760us  Host To Device\n",
            "      12         -         -         -           -  2.358377ms  Gpu page fault groups\n",
            "Total CPU Page faults: 24\n"
          ]
        }
      ]
    },
    {
      "cell_type": "code",
      "source": [
        "%%writefile HW6_Prob5.cu\n",
        "#include <stdio.h>\n",
        "#include <iostream>\n",
        "#include <math.h>\n",
        "\n",
        "// Kernel function to add the elements of two arrays\n",
        "__global__\n",
        "void mul(int n, float *x, float *y)\n",
        "{\n",
        "  int index = threadIdx.x;\n",
        "  int stride = blockDim.x;\n",
        "\n",
        "    for (int i = index; i < n; i += stride) {\n",
        "        y[i] = x[i] * y[i];\n",
        "    }\n",
        "}\n",
        "\n",
        "int main(void)\n",
        "{\n",
        "    int N = 1 << 20; // 1048576 number of elements\n",
        "    float *x, *y;\n",
        "    cudaEvent_t start, end;\n",
        "\n",
        "    // Allocate Unified Memory — accessible from CPU or GPU\n",
        "    cudaMallocManaged(&x, N * sizeof(float));\n",
        "    cudaMallocManaged(&y, N * sizeof(float));\n",
        "\n",
        "    // Initialize x and y arrays on the host\n",
        "    for (int i = 0; i < N; i++) {\n",
        "        x[i] = 1.0f;\n",
        "        y[i] = 2.0f;\n",
        "    }\n",
        "\n",
        "    cudaEventCreate(&start);\n",
        "    cudaEventCreate(&end);\n",
        "    cudaEventRecord(start);\n",
        "\n",
        "    // Run kernel on 1M elements on the GPU\n",
        "    mul<<<1, 256>>>(N, x, y);\n",
        "\n",
        "    cudaEventRecord(end);\n",
        "    // Wait for GPU to finish before accessing on host\n",
        "    cudaEventSynchronize(end);\n",
        "\n",
        "    float time = 0;\n",
        "    cudaEventElapsedTime(&time, start, end);\n",
        "\n",
        "    // Free memory\n",
        "    cudaFree(x);\n",
        "    cudaFree(y);\n",
        "\n",
        "    printf(\"The time required: %f\", time);\n",
        "    return 0;\n",
        "}"
      ],
      "metadata": {
        "colab": {
          "base_uri": "https://localhost:8080/"
        },
        "id": "BobljZlGI_cF",
        "outputId": "4f8848fe-d790-44d4-b956-15c6606e880d"
      },
      "execution_count": null,
      "outputs": [
        {
          "output_type": "stream",
          "name": "stdout",
          "text": [
            "Overwriting HW6_Prob5.cu\n"
          ]
        }
      ]
    },
    {
      "cell_type": "code",
      "source": [
        "!nvcc -o HW6_Prob5 HW6_Prob5.cu #Establish the code"
      ],
      "metadata": {
        "id": "sqnfkpFlJMKM"
      },
      "execution_count": null,
      "outputs": []
    },
    {
      "cell_type": "markdown",
      "source": [],
      "metadata": {
        "id": "grBTYlTJLXVj"
      }
    },
    {
      "cell_type": "code",
      "source": [
        "!./HW6_Prob5"
      ],
      "metadata": {
        "colab": {
          "base_uri": "https://localhost:8080/"
        },
        "id": "ryJrJwhxLf1x",
        "outputId": "8b8758be-8c12-43f6-9d36-d74f5fae2f35"
      },
      "execution_count": null,
      "outputs": [
        {
          "output_type": "stream",
          "name": "stdout",
          "text": [
            "The time required: 3.952736"
          ]
        }
      ]
    },
    {
      "cell_type": "code",
      "source": [
        "!nvprof ./HW6_Prob5 # Code to compile"
      ],
      "metadata": {
        "colab": {
          "base_uri": "https://localhost:8080/"
        },
        "id": "3KG8pYbnJTLw",
        "outputId": "2b854117-8e4c-4cea-89b6-58fc289105b4"
      },
      "execution_count": null,
      "outputs": [
        {
          "output_type": "stream",
          "name": "stdout",
          "text": [
            "==7259== NVPROF is profiling process 7259, command: ./HW6_Prob5\n",
            "==7259== Profiling application: ./HW6_Prob5\n",
            "The time required: 4.125920==7259== Profiling result:\n",
            "            Type  Time(%)      Time     Calls       Avg       Min       Max  Name\n",
            " GPU activities:  100.00%  3.9026ms         1  3.9026ms  3.9026ms  3.9026ms  mul(int, float*, float*)\n",
            "      API calls:   97.73%  205.67ms         2  102.83ms  41.854us  205.62ms  cudaMallocManaged\n",
            "                    1.86%  3.9105ms         1  3.9105ms  3.9105ms  3.9105ms  cudaEventSynchronize\n",
            "                    0.20%  424.67us         2  212.33us  204.88us  219.79us  cudaFree\n",
            "                    0.10%  203.95us         1  203.95us  203.95us  203.95us  cudaLaunchKernel\n",
            "                    0.08%  164.41us       114  1.4420us     135ns  84.838us  cuDeviceGetAttribute\n",
            "                    0.01%  21.718us         2  10.859us  3.7600us  17.958us  cudaEventRecord\n",
            "                    0.01%  18.448us         2  9.2240us     987ns  17.461us  cudaEventCreate\n",
            "                    0.01%  12.299us         1  12.299us  12.299us  12.299us  cuDeviceGetName\n",
            "                    0.00%  5.1810us         1  5.1810us  5.1810us  5.1810us  cuDeviceGetPCIBusId\n",
            "                    0.00%  4.8860us         1  4.8860us  4.8860us  4.8860us  cuDeviceTotalMem\n",
            "                    0.00%  3.4700us         1  3.4700us  3.4700us  3.4700us  cudaEventElapsedTime\n",
            "                    0.00%  2.0850us         3     695ns     328ns  1.4090us  cuDeviceGetCount\n",
            "                    0.00%  1.0490us         2     524ns     281ns     768ns  cuDeviceGet\n",
            "                    0.00%     490ns         1     490ns     490ns     490ns  cuModuleGetLoadingMode\n",
            "                    0.00%     213ns         1     213ns     213ns     213ns  cuDeviceGetUuid\n",
            "\n",
            "==7259== Unified Memory profiling result:\n",
            "Device \"Tesla T4 (0)\"\n",
            "   Count  Avg Size  Min Size  Max Size  Total Size  Total Time  Name\n",
            "      48  170.67KB  4.0000KB  0.9961MB  8.000000MB  797.0850us  Host To Device\n",
            "      12         -         -         -           -  2.293452ms  Gpu page fault groups\n",
            "Total CPU Page faults: 24\n"
          ]
        }
      ]
    },
    {
      "cell_type": "code",
      "source": [
        "%%writefile HW6_Prob5.cu\n",
        "#include <stdio.h>\n",
        "#include <iostream>\n",
        "#include <math.h>\n",
        "\n",
        "// Kernel function to add the elements of two arrays\n",
        "__global__\n",
        "void mul(int n, float *x, float *y)\n",
        "{\n",
        "  int index = blockDim.x * blockDim.x + threadIdx.x;\n",
        "  int stride = blockDim.x * gridDim.x;\n",
        "\n",
        "    for (int i = index; i < n; i += stride) {\n",
        "        y[i] = x[i] * y[i];\n",
        "    }\n",
        "}\n",
        "\n",
        "int main(void)\n",
        "{\n",
        "    int N = 1 << 20; // 1048576 number of elements\n",
        "    float *x, *y;\n",
        "    cudaEvent_t start, end;\n",
        "    int blockSize = 256;\n",
        "    int numBlocks = (N + blockSize - 1) / blockSize;\n",
        "\n",
        "    // Allocate Unified Memory — accessible from CPU or GPU\n",
        "    cudaMallocManaged(&x, N * sizeof(float));\n",
        "    cudaMallocManaged(&y, N * sizeof(float));\n",
        "\n",
        "    // Initialize x and y arrays on the host\n",
        "    for (int i = 0; i < N; i++) {\n",
        "        x[i] = 1.0f;\n",
        "        y[i] = 2.0f;\n",
        "    }\n",
        "\n",
        "    cudaEventCreate(&start);\n",
        "    cudaEventCreate(&end);\n",
        "    cudaEventRecord(start);\n",
        "\n",
        "    // Run kernel on 1M elements on the GPU\n",
        "    mul<<<numBlocks, blockSize>>>(N, x, y);\n",
        "\n",
        "    cudaEventRecord(end);\n",
        "    // Wait for GPU to finish before accessing on host\n",
        "    cudaEventSynchronize(end);\n",
        "\n",
        "    float time = 0;\n",
        "    cudaEventElapsedTime(&time, start, end);\n",
        "\n",
        "    // Free memory\n",
        "    cudaFree(x);\n",
        "    cudaFree(y);\n",
        "\n",
        "    printf(\"The time required: %f\", time);\n",
        "    return 0;\n",
        "}"
      ],
      "metadata": {
        "colab": {
          "base_uri": "https://localhost:8080/"
        },
        "id": "uCZT83NVLIz6",
        "outputId": "6394c022-12d2-4ad8-8352-a742d9b6761a"
      },
      "execution_count": null,
      "outputs": [
        {
          "output_type": "stream",
          "name": "stdout",
          "text": [
            "Overwriting HW6_Prob5.cu\n"
          ]
        }
      ]
    },
    {
      "cell_type": "code",
      "source": [
        "!nvcc -o HW6_Prob5 HW6_Prob5.cu #Establish the code"
      ],
      "metadata": {
        "id": "O2anRC9ri7_C"
      },
      "execution_count": null,
      "outputs": []
    },
    {
      "cell_type": "code",
      "source": [
        "!./HW6_Prob5"
      ],
      "metadata": {
        "colab": {
          "base_uri": "https://localhost:8080/"
        },
        "id": "52SWXtS7i-mz",
        "outputId": "534ebd29-f4d9-4e70-a5a4-b5f1db32a56b"
      },
      "execution_count": null,
      "outputs": [
        {
          "output_type": "stream",
          "name": "stdout",
          "text": [
            "The time required: 0.711520"
          ]
        }
      ]
    },
    {
      "cell_type": "code",
      "source": [
        "!nvprof ./HW6_Prob5 # Code to compile"
      ],
      "metadata": {
        "colab": {
          "base_uri": "https://localhost:8080/"
        },
        "id": "7nNdLZoWi_7H",
        "outputId": "2daa719a-2817-48a4-98a2-c0ef0a6a9d45"
      },
      "execution_count": null,
      "outputs": [
        {
          "output_type": "stream",
          "name": "stdout",
          "text": [
            "==7393== NVPROF is profiling process 7393, command: ./HW6_Prob5\n",
            "The time required: 0.806912==7393== Profiling application: ./HW6_Prob5\n",
            "==7393== Profiling result:\n",
            "            Type  Time(%)      Time     Calls       Avg       Min       Max  Name\n",
            " GPU activities:  100.00%  572.83us         1  572.83us  572.83us  572.83us  mul(int, float*, float*)\n",
            "      API calls:   99.22%  218.00ms         2  109.00ms  56.097us  217.94ms  cudaMallocManaged\n",
            "                    0.28%  625.83us         1  625.83us  625.83us  625.83us  cudaEventSynchronize\n",
            "                    0.26%  562.34us         2  281.17us  259.08us  303.26us  cudaFree\n",
            "                    0.11%  231.28us         1  231.28us  231.28us  231.28us  cudaLaunchKernel\n",
            "                    0.08%  171.60us       114  1.5050us     155ns  64.212us  cuDeviceGetAttribute\n",
            "                    0.02%  42.522us         2  21.261us  3.7420us  38.780us  cudaEventRecord\n",
            "                    0.02%  39.180us         2  19.590us  4.7750us  34.405us  cudaEventCreate\n",
            "                    0.01%  12.656us         1  12.656us  12.656us  12.656us  cuDeviceGetName\n",
            "                    0.00%  5.6360us         1  5.6360us  5.6360us  5.6360us  cuDeviceGetPCIBusId\n",
            "                    0.00%  4.9910us         1  4.9910us  4.9910us  4.9910us  cuDeviceTotalMem\n",
            "                    0.00%  4.4670us         1  4.4670us  4.4670us  4.4670us  cudaEventElapsedTime\n",
            "                    0.00%  1.7140us         3     571ns     204ns  1.2320us  cuDeviceGetCount\n",
            "                    0.00%  1.1070us         2     553ns     174ns     933ns  cuDeviceGet\n",
            "                    0.00%     722ns         1     722ns     722ns     722ns  cuModuleGetLoadingMode\n",
            "                    0.00%     449ns         1     449ns     449ns     449ns  cuDeviceGetUuid\n",
            "\n",
            "==7393== Unified Memory profiling result:\n",
            "Device \"Tesla T4 (0)\"\n",
            "   Count  Avg Size  Min Size  Max Size  Total Size  Total Time  Name\n",
            "       4  32.000KB  4.0000KB  60.000KB  128.0000KB  21.59900us  Host To Device\n",
            "       1         -         -         -           -  525.0190us  Gpu page fault groups\n",
            "Total CPU Page faults: 24\n"
          ]
        }
      ]
    },
    {
      "cell_type": "code",
      "source": [
        "%%writefile HW6_Prob5.cu\n",
        "#include <stdio.h>\n",
        "#include <iostream>\n",
        "#include <math.h>\n",
        "\n",
        "// Kernel function to add the elements of two arrays\n",
        "__global__\n",
        "void mul(int n, float *x, float *y)\n",
        "{\n",
        "  int index = blockDim.x * blockDim.x + threadIdx.x;\n",
        "  int stride = blockDim.x * gridDim.x;\n",
        "\n",
        "    for (int i = index; i < n; i += stride) {\n",
        "        y[i] = x[i] * y[i];\n",
        "    }\n",
        "}\n",
        "\n",
        "int main(void)\n",
        "{\n",
        "    int N = 1 << 20; // 1048576 number of elements\n",
        "    float *x, *y;\n",
        "    cudaEvent_t start, end;\n",
        "    int blockSize = 1024;\n",
        "    int numBlocks = (N + blockSize - 1) / blockSize;\n",
        "\n",
        "    // Allocate Unified Memory — accessible from CPU or GPU\n",
        "    cudaMallocManaged(&x, N * sizeof(float));\n",
        "    cudaMallocManaged(&y, N * sizeof(float));\n",
        "\n",
        "    // Initialize x and y arrays on the host\n",
        "    for (int i = 0; i < N; i++) {\n",
        "        x[i] = 1.0f;\n",
        "        y[i] = 2.0f;\n",
        "    }\n",
        "\n",
        "    cudaEventCreate(&start);\n",
        "    cudaEventCreate(&end);\n",
        "    cudaEventRecord(start);\n",
        "\n",
        "    // Run kernel on 1M elements on the GPU\n",
        "    mul<<<numBlocks, blockSize>>>(N, x, y);\n",
        "\n",
        "    cudaEventRecord(end);\n",
        "    // Wait for GPU to finish before accessing on host\n",
        "    cudaEventSynchronize(end);\n",
        "\n",
        "    float time = 0;\n",
        "    cudaEventElapsedTime(&time, start, end);\n",
        "\n",
        "    // Free memory\n",
        "    cudaFree(x);\n",
        "    cudaFree(y);\n",
        "\n",
        "    printf(\"The time required: %f\", time);\n",
        "    return 0;\n",
        "}"
      ],
      "metadata": {
        "colab": {
          "base_uri": "https://localhost:8080/"
        },
        "id": "DAT1s8_ijBX2",
        "outputId": "b4310598-43e5-4c7d-8a6a-f24070ce5e8f"
      },
      "execution_count": null,
      "outputs": [
        {
          "output_type": "stream",
          "name": "stdout",
          "text": [
            "Overwriting HW6_Prob5.cu\n"
          ]
        }
      ]
    },
    {
      "cell_type": "code",
      "source": [
        "!nvcc -o HW6_Prob5 HW6_Prob5.cu #Establish the code"
      ],
      "metadata": {
        "id": "baiujdQ_jqIE"
      },
      "execution_count": null,
      "outputs": []
    },
    {
      "cell_type": "code",
      "source": [
        "!./HW6_Prob5"
      ],
      "metadata": {
        "colab": {
          "base_uri": "https://localhost:8080/"
        },
        "id": "LsFFrYuajsbT",
        "outputId": "bfe17cf4-1ffc-4baf-907f-292ed9feec85"
      },
      "execution_count": null,
      "outputs": [
        {
          "output_type": "stream",
          "name": "stdout",
          "text": [
            "The time required: 0.186400"
          ]
        }
      ]
    },
    {
      "cell_type": "code",
      "source": [
        "!nvprof ./HW6_Prob5 # Code to compile"
      ],
      "metadata": {
        "colab": {
          "base_uri": "https://localhost:8080/"
        },
        "id": "Nxbie7RKkASG",
        "outputId": "cf909a01-4869-4d3e-a7f9-26ef5044fd05"
      },
      "execution_count": null,
      "outputs": [
        {
          "output_type": "stream",
          "name": "stdout",
          "text": [
            "==7648== NVPROF is profiling process 7648, command: ./HW6_Prob5\n",
            "The time required: 0.236992==7648== Profiling application: ./HW6_Prob5\n",
            "==7648== Profiling result:\n",
            "            Type  Time(%)      Time     Calls       Avg       Min       Max  Name\n",
            " GPU activities:  100.00%  25.664us         1  25.664us  25.664us  25.664us  mul(int, float*, float*)\n",
            "      API calls:   99.63%  202.77ms         2  101.39ms  42.377us  202.73ms  cudaMallocManaged\n",
            "                    0.15%  303.80us         2  151.90us  133.17us  170.63us  cudaFree\n",
            "                    0.10%  208.95us         1  208.95us  208.95us  208.95us  cudaLaunchKernel\n",
            "                    0.06%  130.70us       114  1.1460us     138ns  51.921us  cuDeviceGetAttribute\n",
            "                    0.02%  37.593us         1  37.593us  37.593us  37.593us  cudaEventSynchronize\n",
            "                    0.01%  23.591us         2  11.795us  5.1560us  18.435us  cudaEventCreate\n",
            "                    0.01%  21.263us         2  10.631us  3.6260us  17.637us  cudaEventRecord\n",
            "                    0.01%  11.464us         1  11.464us  11.464us  11.464us  cuDeviceGetName\n",
            "                    0.00%  5.7580us         1  5.7580us  5.7580us  5.7580us  cuDeviceGetPCIBusId\n",
            "                    0.00%  4.7280us         1  4.7280us  4.7280us  4.7280us  cuDeviceTotalMem\n",
            "                    0.00%  3.1450us         1  3.1450us  3.1450us  3.1450us  cudaEventElapsedTime\n",
            "                    0.00%  1.5390us         3     513ns     221ns     996ns  cuDeviceGetCount\n",
            "                    0.00%     907ns         2     453ns     178ns     729ns  cuDeviceGet\n",
            "                    0.00%     657ns         1     657ns     657ns     657ns  cuModuleGetLoadingMode\n",
            "                    0.00%     226ns         1     226ns     226ns     226ns  cuDeviceGetUuid\n",
            "\n",
            "==7648== Unified Memory profiling result:\n",
            "Total CPU Page faults: 24\n"
          ]
        }
      ]
    },
    {
      "cell_type": "code",
      "source": [
        "%%writefile HW6_Prob5.cu\n",
        "#include <stdio.h>\n",
        "#include <iostream>\n",
        "#include <math.h>\n",
        "\n",
        "// Kernel function to add the elements of two arrays\n",
        "__global__\n",
        "void mul(int n, float *x, float *y)\n",
        "{\n",
        "  int index = blockDim.x * blockDim.x + threadIdx.x;\n",
        "  int stride = blockDim.x * gridDim.x;\n",
        "\n",
        "    for (int i = index; i < n; i += stride) {\n",
        "        y[i] = x[i] * y[i];\n",
        "    }\n",
        "}\n",
        "\n",
        "int main(void)\n",
        "{\n",
        "    int N = 1 << 20; // 1048576 number of elements\n",
        "    float *x, *y;\n",
        "    cudaEvent_t start, end;\n",
        "    int blockSize = 2048;\n",
        "    int numBlocks = (N + blockSize - 1) / blockSize;\n",
        "\n",
        "    // Allocate Unified Memory — accessible from CPU or GPU\n",
        "    cudaMallocManaged(&x, N * sizeof(float));\n",
        "    cudaMallocManaged(&y, N * sizeof(float));\n",
        "\n",
        "    // Initialize x and y arrays on the host\n",
        "    for (int i = 0; i < N; i++) {\n",
        "        x[i] = 1.0f;\n",
        "        y[i] = 2.0f;\n",
        "    }\n",
        "\n",
        "    cudaEventCreate(&start);\n",
        "    cudaEventCreate(&end);\n",
        "    cudaEventRecord(start);\n",
        "\n",
        "    // Run kernel on 1M elements on the GPU\n",
        "    mul<<<numBlocks, blockSize>>>(N, x, y);\n",
        "\n",
        "    cudaEventRecord(end);\n",
        "    // Wait for GPU to finish before accessing on host\n",
        "    cudaEventSynchronize(end);\n",
        "\n",
        "    float time = 0;\n",
        "    cudaEventElapsedTime(&time, start, end);\n",
        "\n",
        "    // Free memory\n",
        "    cudaFree(x);\n",
        "    cudaFree(y);\n",
        "\n",
        "    printf(\"The time required: %f\", time);\n",
        "    return 0;\n",
        "}"
      ],
      "metadata": {
        "colab": {
          "base_uri": "https://localhost:8080/"
        },
        "id": "i36OFho1kBxG",
        "outputId": "2f42b6fa-f007-4ecf-c238-f8afe559a66a"
      },
      "execution_count": null,
      "outputs": [
        {
          "output_type": "stream",
          "name": "stdout",
          "text": [
            "Overwriting HW6_Prob5.cu\n"
          ]
        }
      ]
    },
    {
      "cell_type": "code",
      "source": [
        "!nvcc -o HW6_Prob5 HW6_Prob5.cu #Establish the code"
      ],
      "metadata": {
        "id": "7q_ydP4PkGas"
      },
      "execution_count": null,
      "outputs": []
    },
    {
      "cell_type": "code",
      "source": [
        "!./HW6_Prob5"
      ],
      "metadata": {
        "colab": {
          "base_uri": "https://localhost:8080/"
        },
        "id": "rAp-ijzykLai",
        "outputId": "a2637969-1f3f-4411-8049-e6841607780c"
      },
      "execution_count": null,
      "outputs": [
        {
          "output_type": "stream",
          "name": "stdout",
          "text": [
            "The time required: 0.153728"
          ]
        }
      ]
    },
    {
      "cell_type": "code",
      "source": [
        "!nvprof ./HW6_Prob5 # Code to compile"
      ],
      "metadata": {
        "colab": {
          "base_uri": "https://localhost:8080/"
        },
        "id": "HqEJrl32kMxC",
        "outputId": "433fb4d4-d9c3-4fb0-8a5f-2fa0fab99f9a"
      },
      "execution_count": null,
      "outputs": [
        {
          "output_type": "stream",
          "name": "stdout",
          "text": [
            "==8848== NVPROF is profiling process 8848, command: ./HW6_Prob5\n",
            "==8848== Profiling application: ./HW6_Prob5\n",
            "==8848== Profiling result:\n",
            "No kernels were profiled.\n",
            "            Type  Time(%)      Time     Calls       Avg       Min       Max  Name\n",
            "      API calls:   99.61%  253.18ms         2  126.59ms  51.968us  253.13ms  cudaMallocManaged\n",
            "                    0.18%  467.73us         2  233.87us  226.27us  241.47us  cudaFree\n",
            "                    0.09%  236.52us         1  236.52us  236.52us  236.52us  cudaLaunchKernel\n",
            "                    0.07%  186.74us       114  1.6380us     198ns  71.955us  cuDeviceGetAttribute\n",
            "                    0.01%  30.391us         2  15.195us  6.3410us  24.050us  cudaEventCreate\n",
            "                    0.01%  29.384us         2  14.692us  4.9890us  24.395us  cudaEventRecord\n",
            "                    0.00%  12.597us         1  12.597us  12.597us  12.597us  cuDeviceGetName\n",
            "                    0.00%  7.3680us         1  7.3680us  7.3680us  7.3680us  cuDeviceGetPCIBusId\n",
            "                    0.00%  6.3940us         1  6.3940us  6.3940us  6.3940us  cuDeviceTotalMem\n",
            "                    0.00%  5.7110us         1  5.7110us  5.7110us  5.7110us  cudaEventSynchronize\n",
            "                    0.00%  3.2330us         1  3.2330us  3.2330us  3.2330us  cudaEventElapsedTime\n",
            "                    0.00%  2.0780us         3     692ns     327ns  1.3990us  cuDeviceGetCount\n",
            "                    0.00%  1.3940us         2     697ns     277ns  1.1170us  cuDeviceGet\n",
            "                    0.00%     518ns         1     518ns     518ns     518ns  cuModuleGetLoadingMode\n",
            "                    0.00%     437ns         1     437ns     437ns     437ns  cuDeviceGetUuid\n",
            "\n",
            "==8848== Unified Memory profiling result:\n",
            "Total CPU Page faults: 24\n",
            "The time required: 0.246272"
          ]
        }
      ]
    },
    {
      "cell_type": "code",
      "source": [],
      "metadata": {
        "id": "zjv8TKCIkOF1"
      },
      "execution_count": null,
      "outputs": []
    }
  ]
}