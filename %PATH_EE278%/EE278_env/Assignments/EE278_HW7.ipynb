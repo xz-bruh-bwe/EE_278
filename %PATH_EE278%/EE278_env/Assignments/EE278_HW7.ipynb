{
 "cells": [
  {
   "cell_type": "markdown",
   "id": "d100f9da-0c46-40af-83c9-7df95e1672c4",
   "metadata": {},
   "source": [
    "### logamrithmic Converter For (1,4,3)"
   ]
  },
  {
   "cell_type": "code",
   "execution_count": 1,
   "id": "4b106d95-fa74-4598-8ec1-3a2a4998cb16",
   "metadata": {},
   "outputs": [
    {
     "name": "stdout",
     "output_type": "stream",
     "text": [
      "0.8295 -> 00110101\n",
      "-0.4722 -> 10101111\n",
      "0.3052 -> 00101001\n",
      "0.3977 -> 00101100\n"
     ]
    }
   ],
   "source": [
    "def to_8bit_logarithmic(number):\n",
    "    \"\"\"\n",
    "    Convert a number to an 8-bit logarithmic representation (1,4,3).\n",
    "    \n",
    "    Parameters:\n",
    "        number (float): Input number to convert.\n",
    "    \n",
    "    Returns:\n",
    "        str: 8-bit binary representation.\n",
    "    \"\"\"\n",
    "    if number == 0:\n",
    "        return \"00000000\"  # Special case for zero\n",
    "\n",
    "    # Determine the sign bit\n",
    "    sign_bit = 0 if number > 0 else 1\n",
    "    number = abs(number)\n",
    "\n",
    "    # Calculate the exponent and normalize the number\n",
    "    exponent = 0\n",
    "    while number >= 2.0:\n",
    "        number /= 2.0\n",
    "        exponent += 1\n",
    "    while number < 1.0:\n",
    "        number *= 2.0\n",
    "        exponent -= 1\n",
    "\n",
    "    # Apply a bias of 7 to the exponent to fit into 4 bits\n",
    "    bias = 7\n",
    "    biased_exponent = exponent + bias\n",
    "\n",
    "    if biased_exponent < 0 or biased_exponent > 15:\n",
    "        raise ValueError(\"Number out of range for 4-bit exponent representation.\")\n",
    "\n",
    "    # Calculate the mantissa (3 bits)\n",
    "    mantissa = int((number - 1.0) * (2**3))  # Scaled fractional part\n",
    "\n",
    "    # Combine the parts into a single 8-bit value\n",
    "    log_rep = (sign_bit << 7) | (biased_exponent << 3) | mantissa\n",
    "\n",
    "    # Return as an 8-bit binary string\n",
    "    return f\"{log_rep:08b}\"\n",
    "\n",
    "# Convert the given numbers\n",
    "numbers = [0.8295, -0.4722, 0.3052, 0.3977]\n",
    "results = {}\n",
    "\n",
    "for num in numbers:\n",
    "    try:\n",
    "        results[num] = to_8bit_logarithmic(num)\n",
    "    except ValueError as e:\n",
    "        results[num] = str(e)\n",
    "[\n",
    "# Display results\n",
    "for num, rep in results.items():\n",
    "    print(f\"{num} -> {rep}\")"
   ]
  },
  {
   "cell_type": "markdown",
   "id": "7dd5a3b1-322f-4328-a22f-3a075bae0f37",
   "metadata": {},
   "source": [
    "### Logarithmic Converter for (1,2,2)"
   ]
  },
  {
   "cell_type": "code",
   "execution_count": 2,
   "id": "a864cb0f-0319-49f5-82a6-f4764b42647b",
   "metadata": {},
   "outputs": [
    {
     "name": "stdout",
     "output_type": "stream",
     "text": [
      "0.8295 -> 00010\n",
      "-0.4722 -> Number out of range for 2-bit exponent representation.\n",
      "0.3052 -> Number out of range for 2-bit exponent representation.\n",
      "0.3977 -> Number out of range for 2-bit exponent representation.\n"
     ]
    }
   ],
   "source": [
    "def to_5bit_logarithmic(number):\n",
    "    \"\"\"\n",
    "    Convert a number to 5-bit logarithmic representation (1,2,2).\n",
    "    \n",
    "    Parameters:\n",
    "        number (float): Input number to convert.\n",
    "    \n",
    "    Returns:\n",
    "        str: 5-bit binary representation.\n",
    "    \"\"\"\n",
    "    if number == 0:\n",
    "        return \"00000\"  # Special case for zero\n",
    "    \n",
    "    # Determine the sign bit\n",
    "    sign_bit = 0 if number > 0 else 1\n",
    "    number = abs(number)\n",
    "\n",
    "    # Calculate the exponent and normalize the number\n",
    "    exponent = 0\n",
    "    while number >= 2.0:\n",
    "        number /= 2.0\n",
    "        exponent += 1\n",
    "    while number < 1.0:\n",
    "        number *= 2.0\n",
    "        exponent -= 1\n",
    "\n",
    "    # Apply a bias of 1 to the exponent to fit into 2 bits\n",
    "    bias = 1\n",
    "    biased_exponent = exponent + bias\n",
    "\n",
    "    if biased_exponent < 0 or biased_exponent > 3:\n",
    "        raise ValueError(\"Number out of range for 2-bit exponent representation.\")\n",
    "\n",
    "    # Calculate the mantissa (2 bits)\n",
    "    mantissa = int((number - 1.0) * (2**2))  # Scale fractional part to 2 bits\n",
    "\n",
    "    # Combine the parts into a single 5-bit value\n",
    "    log_rep = (sign_bit << 4) | (biased_exponent << 2) | mantissa\n",
    "\n",
    "    # Return as a 5-bit binary string\n",
    "    return f\"{log_rep:05b}\"\n",
    "\n",
    "# Example usage\n",
    "numbers = [0.8295, -0.4722, 0.3052, 0.3977]\n",
    "results = {}\n",
    "\n",
    "for num in numbers:\n",
    "    try:\n",
    "        results[num] = to_5bit_logarithmic(num)\n",
    "    except ValueError as e:\n",
    "        results[num] = str(e)\n",
    "\n",
    "# Display results\n",
    "for num, rep in results.items():\n",
    "    print(f\"{num} -> {rep}\")\n"
   ]
  },
  {
   "cell_type": "code",
   "execution_count": null,
   "id": "ba520e93-93a8-4cb4-8122-6e7beefb5226",
   "metadata": {},
   "outputs": [],
   "source": []
  }
 ],
 "metadata": {
  "kernelspec": {
   "display_name": "Python 3 (ipykernel)",
   "language": "python",
   "name": "python3"
  },
  "language_info": {
   "codemirror_mode": {
    "name": "ipython",
    "version": 3
   },
   "file_extension": ".py",
   "mimetype": "text/x-python",
   "name": "python",
   "nbconvert_exporter": "python",
   "pygments_lexer": "ipython3",
   "version": "3.8.18"
  }
 },
 "nbformat": 4,
 "nbformat_minor": 5
}
