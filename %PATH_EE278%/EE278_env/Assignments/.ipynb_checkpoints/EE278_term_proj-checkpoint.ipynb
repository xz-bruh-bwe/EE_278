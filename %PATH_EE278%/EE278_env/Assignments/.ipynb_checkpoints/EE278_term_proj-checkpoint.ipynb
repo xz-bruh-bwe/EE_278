{
 "cells": [
  {
   "cell_type": "code",
   "execution_count": 1,
   "id": "28fe325b-5ce5-40f0-8725-cd07319cb43b",
   "metadata": {},
   "outputs": [],
   "source": [
    "## Conv MNIST Dataset to Bin File"
   ]
  },
  {
   "cell_type": "code",
   "execution_count": 3,
   "id": "18b26e31-2429-4f7f-9af2-0b04e5579e77",
   "metadata": {},
   "outputs": [],
   "source": [
    "bin_location = r\"C:\\Users\\Baron\\Documents\\Grad_School\\EE_278\\Projects\\EE278_term_project\\mnist_bin\""
   ]
  },
  {
   "cell_type": "code",
   "execution_count": 8,
   "id": "a7b1e26d-6423-4c8f-936f-bba419b00160",
   "metadata": {},
   "outputs": [],
   "source": [
    "import cv2\n",
    "import numpy as np\n",
    "\n",
    "import cv2\n",
    "import numpy as np\n",
    "import os\n",
    "\n",
    "def preprocess_image(image_path, output_path):\n",
    "    # Check if the binary file already exists\n",
    "    if os.path.exists(output_path):\n",
    "        \n",
    "        print(f\"Binary file '{output_path}' already exists. Skipping preprocessing.\")\n",
    "        return\n",
    "\n",
    "    # Load the image in grayscale\n",
    "    img = cv2.imread(image_path, cv2.IMREAD_GRAYSCALE)\n",
    "    if img is None:\n",
    "        print(f\"Error: Could not open or find the image {image_path}\")\n",
    "        return\n",
    "\n",
    "    # Resize the image to 32x32\n",
    "    img_resized = cv2.resize(img, (32, 32))\n",
    "\n",
    "    # Normalize pixel values to range [0, 1]\n",
    "    img_normalized = img_resized / 255.0\n",
    "\n",
    "    # Flatten the image to a 1D array\n",
    "    img_flattened = img_normalized.flatten()\n",
    "\n",
    "    # Save the array to a binary file\n",
    "    img_flattened.astype('float32').tofile(output_path)\n",
    "    print(f\"Preprocessed image saved to '{output_path}'\")\n",
    "\n"
   ]
  },
  {
   "cell_type": "code",
   "execution_count": 10,
   "id": "05dadbb8-c166-45d7-ba7c-d22f652ea526",
   "metadata": {},
   "outputs": [
    {
     "name": "stdout",
     "output_type": "stream",
     "text": [
      "Preprocessed image saved to 'C:\\Users\\Baron\\Documents\\Grad_School\\EE_278\\Projects\\EE278_term_project\\mnist_bin\\testBin'\n"
     ]
    }
   ],
   "source": [
    "# Example usage\n",
    "num_location = r\"C:\\Users\\Baron\\Documents\\Grad_School\\EE_278\\Projects\\EE278_term_project\\mnist_bin\\testSet\\img_1.jpg\"\n",
    "bin_location = r\"C:\\Users\\Baron\\Documents\\Grad_School\\EE_278\\Projects\\EE278_term_project\\mnist_bin\\testBin\"\n",
    "\n",
    "preprocess_image(num_location, bin_location)"
   ]
  },
  {
   "cell_type": "code",
   "execution_count": null,
   "id": "2d479f15-65ff-4522-899d-fd2ce341285e",
   "metadata": {},
   "outputs": [],
   "source": []
  }
 ],
 "metadata": {
  "kernelspec": {
   "display_name": "Python 3 (ipykernel)",
   "language": "python",
   "name": "python3"
  },
  "language_info": {
   "codemirror_mode": {
    "name": "ipython",
    "version": 3
   },
   "file_extension": ".py",
   "mimetype": "text/x-python",
   "name": "python",
   "nbconvert_exporter": "python",
   "pygments_lexer": "ipython3",
   "version": "3.11.5"
  }
 },
 "nbformat": 4,
 "nbformat_minor": 5
}
