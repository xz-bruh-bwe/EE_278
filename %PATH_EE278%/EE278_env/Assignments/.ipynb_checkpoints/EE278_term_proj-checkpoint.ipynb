{
 "cells": [
  {
   "cell_type": "code",
   "execution_count": 1,
   "id": "28fe325b-5ce5-40f0-8725-cd07319cb43b",
   "metadata": {},
   "outputs": [],
   "source": [
    "## Conv MNIST Dataset to Bin File"
   ]
  },
  {
   "cell_type": "code",
   "execution_count": 1,
   "id": "18b26e31-2429-4f7f-9af2-0b04e5579e77",
   "metadata": {},
   "outputs": [],
   "source": [
    "#bin_location = r\"C:\\Users\\Baron\\Documents\\Grad_School\\EE_278\\Projects\\EE278_term_project\\mnist_bin\""
   ]
  },
  {
   "cell_type": "code",
   "execution_count": 2,
   "id": "a7b1e26d-6423-4c8f-936f-bba419b00160",
   "metadata": {},
   "outputs": [],
   "source": [
    "import os\n",
    "import cv2\n",
    "import numpy as np\n",
    "\n",
    "import shutil\n",
    "\n",
    "def preprocess_image(image_path, output_dir):\n",
    "    try:\n",
    "        # Dynamically create the .bin file name\n",
    "        output_name = os.path.splitext(os.path.basename(image_path))[0] + \".bin\"\n",
    "        output_path = os.path.join(output_dir, output_name)\n",
    "\n",
    "        # Ensure the output directory exists\n",
    "        os.makedirs(output_dir, exist_ok=True)\n",
    "\n",
    "        # Load the image in grayscale\n",
    "        img = cv2.imread(image_path, cv2.IMREAD_GRAYSCALE)\n",
    "        if img is None:\n",
    "            raise ValueError(f\"Error: Could not load image from '{image_path}'. Ensure it is a valid file.\")\n",
    "\n",
    "        # Resize the image to 32x32\n",
    "        img_resized = cv2.resize(img, (32, 32), interpolation=cv2.INTER_AREA)\n",
    "\n",
    "        # Normalize pixel values to [0, 1]\n",
    "        img_normalized = img_resized / 255.0\n",
    "\n",
    "        # Flatten the image to a 1D array\n",
    "        img_flattened = img_normalized.flatten()\n",
    "\n",
    "        # Write the binary file\n",
    "        with open(output_path, 'wb') as bin_file:\n",
    "            img_flattened.astype('float32').tofile(bin_file)\n",
    "\n",
    "        print(f\"Preprocessed image saved to '{output_path}'.\")\n",
    "\n",
    "    except Exception as e:\n",
    "        print(f\"Error during preprocessing: {e}\")"
   ]
  },
  {
   "cell_type": "code",
   "execution_count": 3,
   "id": "f94325bf-086b-4e87-ae4c-a62a273f7ba5",
   "metadata": {},
   "outputs": [],
   "source": [
    "os.environ[\"PATH_EE278\"] = \"C:/Users/Baron/Desktop/EE_278_Repo/EE_278/\"\n"
   ]
  },
  {
   "cell_type": "code",
   "execution_count": 4,
   "id": "05dadbb8-c166-45d7-ba7c-d22f652ea526",
   "metadata": {},
   "outputs": [
    {
     "name": "stdout",
     "output_type": "stream",
     "text": [
      "Preprocessed image saved to 'C:/Users/Baron/Desktop/EE_278_Repo/EE_278/%PATH_EE278%/EE278_env/bin_files\\img_9.bin'.\n"
     ]
    }
   ],
   "source": [
    "# Example usage\n",
    "num_location = r\"C:\\Users\\Baron\\Desktop\\EE_278_Repo\\EE_278\\%PATH_EE278%\\EE278_env\\pictures\\img_9.jpg\"\n",
    "bin_location = r\"C:/Users/Baron/Desktop/EE_278_Repo/EE_278/%PATH_EE278%/EE278_env/bin_files\"\n",
    "\n",
    "preprocess_image(num_location, bin_location)"
   ]
  },
  {
   "cell_type": "code",
   "execution_count": null,
   "id": "127641d1-571a-40c8-ba16-9978b18f6897",
   "metadata": {},
   "outputs": [],
   "source": []
  },
  {
   "cell_type": "code",
   "execution_count": 5,
   "id": "b677d1e6-2a9d-4d54-9452-11670a267345",
   "metadata": {},
   "outputs": [],
   "source": [
    "import numpy as np\n",
    "import os\n",
    "import numpy as np\n",
    "import matplotlib.pyplot as plt\n",
    "\n",
    "def read_and_display_binary_image(bin_path, shape=(32, 32)):\n",
    "    \"\"\"\n",
    "    Reads a binary file, reshapes it into an image, and displays it using matplotlib.\n",
    "    \n",
    "    Parameters:\n",
    "        bin_path (str): Path to the binary file to be read.\n",
    "        shape (tuple): Shape to reshape the flat array into (default: (32, 32)).\n",
    "    \n",
    "    Returns:\n",
    "        np.ndarray: The reshaped array containing the image data.\n",
    "    \"\"\"\n",
    "    try:\n",
    "        # Check if the file exists\n",
    "        if not os.path.exists(bin_path):\n",
    "            raise FileNotFoundError(f\"Error: The file '{bin_path}' does not exist.\")\n",
    "\n",
    "        # Read the binary file into a NumPy array\n",
    "        data = np.fromfile(bin_path, dtype='float32')\n",
    "\n",
    "        # Check if the data can be reshaped to the specified shape\n",
    "        if data.size != np.prod(shape):\n",
    "            raise ValueError(f\"Error: Data size {data.size} does not match the expected shape {shape}.\")\n",
    "\n",
    "        # Reshape the data to the specified shape\n",
    "        image = data.reshape(shape)\n",
    "        \n",
    "        # Display the image using matplotlib\n",
    "        plt.imshow(image, cmap='gray')\n",
    "        plt.title(\"Binary Image\")\n",
    "        plt.colorbar()  # Optional: show pixel intensity scale\n",
    "        plt.show()\n",
    "\n",
    "        print(f\"Binary image from '{bin_path}' successfully displayed.\")\n",
    "        return image\n",
    "\n",
    "    except Exception as e:\n",
    "        print(f\"Error reading or displaying binary file: {e}\")\n",
    "        return None"
   ]
  },
  {
   "cell_type": "code",
   "execution_count": 6,
   "id": "6607d0e1-710f-498c-8c3c-22b8972714d3",
   "metadata": {},
   "outputs": [
    {
     "data": {
      "text/plain": [
       "'C:\\\\Users\\\\Baron\\\\Desktop\\\\EE_278_Repo\\\\EE_278\\\\%PATH_EE278%\\\\EE278_env\\\\Assignments'"
      ]
     },
     "execution_count": 6,
     "metadata": {},
     "output_type": "execute_result"
    }
   ],
   "source": [
    "pwd"
   ]
  },
  {
   "cell_type": "code",
   "execution_count": 8,
   "id": "acb12516-7d97-4cec-81fc-fac990206d06",
   "metadata": {},
   "outputs": [
    {
     "name": "stdout",
     "output_type": "stream",
     "text": [
      "C:\\Users\\Baron\\Desktop\\EE_278_Repo\\EE_278\\%PATH_EE278%\\EE278_env\n"
     ]
    }
   ],
   "source": [
    "cd .."
   ]
  },
  {
   "cell_type": "code",
   "execution_count": 9,
   "id": "1e108f62-5868-4272-9ae0-3efe2ae949a7",
   "metadata": {},
   "outputs": [
    {
     "data": {
      "image/png": "[encoded data removed]",
      "text/plain": [
       "<Figure size 640x480 with 2 Axes>"
      ]
     },
     "metadata": {},
     "output_type": "display_data"
    },
    {
     "name": "stdout",
     "output_type": "stream",
     "text": [
      "Binary image from 'bin_files/img_2.bin' successfully displayed.\n",
      "Image Array:\n",
      "[[0. 0. 0. ... 0. 0. 0.]\n",
      " [0. 0. 0. ... 0. 0. 0.]\n",
      " [0. 0. 0. ... 0. 0. 0.]\n",
      " ...\n",
      " [0. 0. 0. ... 0. 0. 0.]\n",
      " [0. 0. 0. ... 0. 0. 0.]\n",
      " [0. 0. 0. ... 0. 0. 0.]]\n"
     ]
    }
   ],
   "source": [
    "# Path to the binary file\n",
    "bin_path = 'bin_files/img_2.bin'\n",
    "\n",
    "# Read the binary file and reshape it to (32, 32)\n",
    "image_array = read_and_display_binary_image(bin_path, shape=(32, 32))\n",
    "\n",
    "# Check the content if successfully read\n",
    "if image_array is not None:\n",
    "    print(\"Image Array:\")\n",
    "    print(image_array)"
   ]
  },
  {
   "cell_type": "code",
   "execution_count": 10,
   "id": "667c18ea-cc1f-4da5-ac18-4709cbea607d",
   "metadata": {},
   "outputs": [
    {
     "data": {
      "text/plain": [
       "'C:\\\\Users\\\\Baron\\\\Desktop\\\\EE_278_Repo\\\\EE_278\\\\%PATH_EE278%\\\\EE278_env'"
      ]
     },
     "execution_count": 10,
     "metadata": {},
     "output_type": "execute_result"
    }
   ],
   "source": [
    "pwd"
   ]
  },
  {
   "cell_type": "code",
   "execution_count": 11,
   "id": "d031a265-165e-4d9c-8c02-fd95e122b1b7",
   "metadata": {},
   "outputs": [
    {
     "name": "stdout",
     "output_type": "stream",
     "text": [
      " Volume in drive C is Windows\n",
      " Volume Serial Number is B426-88EF\n",
      "\n",
      " Directory of C:\\Users\\Baron\\Desktop\\EE_278_Repo\\EE_278\\%PATH_EE278%\\EE278_env\n",
      "\n",
      "11/22/2024  10:03 PM    <DIR>          .\n",
      "09/28/2024  01:15 PM    <DIR>          ..\n",
      "09/28/2024  01:27 PM    <DIR>          .ipynb_checkpoints\n",
      "11/25/2024  10:32 PM    <DIR>          Assignments\n",
      "11/22/2024  09:56 PM    <DIR>          bin_files\n",
      "09/28/2024  01:52 PM    <DIR>          File Transfer\n",
      "09/28/2024  01:15 PM    <DIR>          Include\n",
      "11/23/2024  12:15 AM           270,344 lenet_weights.h5\n",
      "09/28/2024  01:15 PM    <DIR>          Lib\n",
      "11/22/2024  03:01 PM    <DIR>          pictures\n",
      "09/28/2024  01:15 PM               259 pyvenv.cfg\n",
      "09/28/2024  01:15 PM    <DIR>          Scripts\n",
      "11/22/2024  10:05 PM    <DIR>          weights\n",
      "               2 File(s)        270,603 bytes\n",
      "              11 Dir(s)  195,468,378,112 bytes free\n"
     ]
    }
   ],
   "source": [
    "ls"
   ]
  },
  {
   "cell_type": "code",
   "execution_count": 12,
   "id": "9973c659-7cb1-4436-9ce4-dc0b37f12aec",
   "metadata": {},
   "outputs": [
    {
     "name": "stdout",
     "output_type": "stream",
     "text": [
      "The image is 28x28 pixels.\n"
     ]
    }
   ],
   "source": [
    "from PIL import Image\n",
    "\n",
    "def check_image_dimensions(image_path):\n",
    "    # Open the image using PIL\n",
    "    with Image.open(image_path) as img:\n",
    "        # Get the dimensions of the image (width, height)\n",
    "        width, height = img.size\n",
    "\n",
    "    # Check if the image is 28x28 or 32x32\n",
    "    if width == 28 and height == 28:\n",
    "        return \"The image is 28x28 pixels.\"\n",
    "    elif width == 32 and height == 32:\n",
    "        return \"The image is 32x32 pixels.\"\n",
    "    else:\n",
    "        return f\"The image is {width}x{height} pixels, which is neither 28x28 nor 32x32.\"\n",
    "\n",
    "# Example usage:\n",
    "image_path = 'pictures/img_0.jpg'  # Provide the correct image path\n",
    "print(check_image_dimensions(image_path))"
   ]
  },
  {
   "cell_type": "code",
   "execution_count": 13,
   "id": "814a2605-a142-4ced-a641-0e0be7ae28fd",
   "metadata": {},
   "outputs": [
    {
     "data": {
      "text/plain": [
       "'C:\\\\Users\\\\Baron\\\\Desktop\\\\EE_278_Repo\\\\EE_278\\\\%PATH_EE278%\\\\EE278_env'"
      ]
     },
     "execution_count": 13,
     "metadata": {},
     "output_type": "execute_result"
    }
   ],
   "source": [
    "pwd"
   ]
  },
  {
   "cell_type": "code",
   "execution_count": null,
   "id": "c60269bd-e88b-4873-9e81-415664aa16ca",
   "metadata": {},
   "outputs": [],
   "source": []
  },
  {
   "cell_type": "code",
   "execution_count": 14,
   "id": "2a3dc293-4233-49be-9031-1e2a2e115119",
   "metadata": {},
   "outputs": [
    {
     "name": "stdout",
     "output_type": "stream",
     "text": [
      "Epoch 1/10\n",
      "1500/1500 [==============================] - 26s 17ms/step - loss: 0.7571 - accuracy: 0.9239 - val_loss: 0.3752 - val_accuracy: 0.9617\n",
      "Epoch 2/10\n",
      "1500/1500 [==============================] - 29s 19ms/step - loss: 0.3659 - accuracy: 0.9572 - val_loss: 0.3584 - val_accuracy: 0.9531\n",
      "Epoch 3/10\n",
      "1500/1500 [==============================] - 33s 22ms/step - loss: 0.3250 - accuracy: 0.9620 - val_loss: 0.2956 - val_accuracy: 0.9686\n",
      "Epoch 4/10\n",
      "1500/1500 [==============================] - 30s 20ms/step - loss: 0.3013 - accuracy: 0.9633 - val_loss: 0.2716 - val_accuracy: 0.9732\n",
      "Epoch 5/10\n",
      "1500/1500 [==============================] - 27s 18ms/step - loss: 0.2806 - accuracy: 0.9660 - val_loss: 0.2670 - val_accuracy: 0.9676\n",
      "Epoch 6/10\n",
      "1500/1500 [==============================] - 27s 18ms/step - loss: 0.2670 - accuracy: 0.9675 - val_loss: 0.2472 - val_accuracy: 0.9710\n",
      "Epoch 7/10\n",
      "1500/1500 [==============================] - 27s 18ms/step - loss: 0.2545 - accuracy: 0.9691 - val_loss: 0.2670 - val_accuracy: 0.9655\n",
      "Epoch 8/10\n",
      "1500/1500 [==============================] - 24s 16ms/step - loss: 0.2482 - accuracy: 0.9680 - val_loss: 0.2384 - val_accuracy: 0.9723\n",
      "Epoch 9/10\n",
      "1500/1500 [==============================] - 22s 15ms/step - loss: 0.2377 - accuracy: 0.9700 - val_loss: 0.2204 - val_accuracy: 0.9745\n",
      "Epoch 10/10\n",
      "1500/1500 [==============================] - 39s 26ms/step - loss: 0.2323 - accuracy: 0.9706 - val_loss: 0.2231 - val_accuracy: 0.9717\n"
     ]
    },
    {
     "data": {
      "image/png": "[encoded data removed]",
      "text/plain": [
       "<Figure size 640x480 with 1 Axes>"
      ]
     },
     "metadata": {},
     "output_type": "display_data"
    },
    {
     "name": "stdout",
     "output_type": "stream",
     "text": [
      "313/313 - 4s - loss: 0.2168 - accuracy: 0.9738 - 4s/epoch - 12ms/step\n",
      "Test Loss: 0.21679484844207764, Test Accuracy: 0.973800003528595\n"
     ]
    },
    {
     "data": {
      "image/png": "[encoded data removed]",
      "text/plain": [
       "<Figure size 640x480 with 1 Axes>"
      ]
     },
     "metadata": {},
     "output_type": "display_data"
    },
    {
     "name": "stdout",
     "output_type": "stream",
     "text": [
      "1/1 [==============================] - 0s 241ms/step\n",
      "Predicted: 4, Actual: 4\n",
      "All weights and biases saved as .bin files.\n",
      "Weights saved to weights/lenet_weights_new.hdf5\n"
     ]
    }
   ],
   "source": [
    "import os\n",
    "import numpy as np\n",
    "from tensorflow.keras import models, layers, datasets\n",
    "\n",
    "# Create directories for saving weights and biases\n",
    "def create_output_dirs(output_dir):\n",
    "    os.makedirs(output_dir, exist_ok=True)\n",
    "\n",
    "# Save weights and biases as .bin files\n",
    "def save_weights_as_bin(model, output_dir):\n",
    "    # Layer mapping\n",
    "    layer_map = {\n",
    "        \"conv1\": 0,  # First Conv2D layer\n",
    "        \"conv2\": 2,  # Second Conv2D layer\n",
    "        \"fc1\": 5,    # First Dense layer\n",
    "        \"fc2\": 6,    # Second Dense layer\n",
    "        \"fc3\": 7     # Output Dense layer\n",
    "    }\n",
    "\n",
    "# Preprocess the MNIST dataset\n",
    "def preprocess_mnist():\n",
    "    (x_train, y_train), (x_test, y_test) = datasets.mnist.load_data()\n",
    "\n",
    "    # Normalize pixel values to [0, 1]\n",
    "    x_train, x_test = x_train / 255.0, x_test / 255.0\n",
    "\n",
    "    # Resize each image to 32x32 using cv2.INTER_AREA (better for downsampling)\n",
    "    x_train_resized = np.array([cv2.resize(img, (32, 32), interpolation=cv2.INTER_AREA) for img in x_train])\n",
    "    x_test_resized = np.array([cv2.resize(img, (32, 32), interpolation=cv2.INTER_AREA) for img in x_test])\n",
    "\n",
    "    # Add a channel dimension (32x32x1)\n",
    "    x_train = x_train_resized.reshape(-1, 32, 32, 1)\n",
    "    x_test = x_test_resized.reshape(-1, 32, 32, 1)\n",
    "\n",
    "    return x_train, y_train, x_test, y_test\n",
    "\n",
    "# Build the LeNet model\n",
    "def build_lenet():\n",
    "    model = models.Sequential([\n",
    "        layers.Conv2D(6, kernel_size=5, activation='relu', kernel_regularizer='l2', input_shape=(32, 32, 1)),\n",
    "        layers.MaxPool2D(pool_size=2),\n",
    "        layers.Conv2D(16, kernel_size=5, activation='relu', kernel_regularizer='l2'),\n",
    "        layers.MaxPool2D(pool_size=2),\n",
    "        layers.Flatten(),\n",
    "        layers.Dense(120, activation='relu', kernel_regularizer='l2'),\n",
    "        layers.Dense(84, activation='relu', kernel_regularizer='l2'),\n",
    "        layers.Dense(10, activation='softmax'),\n",
    "    ])\n",
    "    model.compile(optimizer='adam', loss='sparse_categorical_crossentropy', metrics=['accuracy'])\n",
    "    return model\n",
    "\n",
    "# Train the model and save weights\n",
    "def train_and_save():\n",
    "    # Preprocess data\n",
    "    x_train, y_train, x_test, y_test = preprocess_mnist()\n",
    "\n",
    "    # Build the LeNet model\n",
    "    model = build_lenet()\n",
    "\n",
    "    # Train the model\n",
    "    history = model.fit(x_train, y_train, epochs=10, batch_size=32, validation_split=0.2)\n",
    "    plt.plot(history.history['loss'], label='Training Loss')\n",
    "    plt.plot(history.history['accuracy'], label='Training Accuracy')\n",
    "    plt.legend()\n",
    "    plt.show()\n",
    "\n",
    "    # Evaluate the model (optional)\n",
    "    test_loss, test_accuracy = model.evaluate(x_test, y_test, verbose=2)\n",
    "    print(f\"Test Loss: {test_loss}, Test Accuracy: {test_accuracy}\")\n",
    "    \n",
    "\n",
    "    # Visualize a test image and prediction\n",
    "    test_image = x_test[6].reshape(1, 32, 32, 1)  # Ensure correct shape\n",
    "    plt.imshow(x_test[6].reshape(32, 32), cmap='gray')\n",
    "    plt.title(f\"Actual Label: {y_test[6]}\")\n",
    "    plt.show()\n",
    "    \n",
    "    prediction = model.predict(test_image)\n",
    "    print(f\"Predicted: {np.argmax(prediction)}, Actual: {y_test[6]}\")\n",
    "\n",
    "    # Save the weights and biases as .bin files\n",
    "    output_dir = \"bin_files/\"\n",
    "    create_output_dirs(output_dir)\n",
    "    #save_weights_as_bin(model, output_dir)\n",
    "    layer_map = {\n",
    "        \"conv1\": 0,  # First Conv2D layer\n",
    "        \"conv2\": 2,  # Second Conv2D layer\n",
    "        \"fc1\": 5,    # First Dense layer\n",
    "        \"fc2\": 6,    # Second Dense layer\n",
    "        \"fc3\": 7     # Output Dense layer\n",
    "    }\n",
    "\n",
    "    #---------------------------------------------------------------------------------------\n",
    "    # Save Conv1 weights and biases\n",
    "    conv1_weights, conv1_bias = model.layers[layer_map[\"conv1\"]].get_weights()\n",
    "    conv1_weights.flatten().astype('float32').tofile(os.path.join(output_dir, \"conv1_filters.bin\"))\n",
    "    conv1_bias.flatten().astype('float32').tofile(os.path.join(output_dir, \"conv1_bias.bin\"))\n",
    "\n",
    "    # Save Conv2 weights and biases\n",
    "    conv2_weights, conv2_bias = model.layers[layer_map[\"conv2\"]].get_weights()\n",
    "    conv2_weights.flatten().astype('float32').tofile(os.path.join(output_dir, \"conv2_filters.bin\"))\n",
    "    conv2_bias.flatten().astype('float32').tofile(os.path.join(output_dir, \"conv2_bias.bin\"))\n",
    "\n",
    "    # Save Fully Connected (fc1) weights and biases\n",
    "    fc1_weights, fc1_bias = model.layers[layer_map[\"fc1\"]].get_weights()\n",
    "    fc1_weights.flatten().astype('float32').tofile(os.path.join(output_dir, \"fc1_weights.bin\"))\n",
    "    fc1_bias.flatten().astype('float32').tofile(os.path.join(output_dir, \"fc1_bias.bin\"))\n",
    "\n",
    "    # Save Fully Connected (fc2) weights and biases\n",
    "    fc2_weights, fc2_bias = model.layers[layer_map[\"fc2\"]].get_weights()\n",
    "    fc2_weights.flatten().astype('float32').tofile(os.path.join(output_dir, \"fc2_weights.bin\"))\n",
    "    fc2_bias.flatten().astype('float32').tofile(os.path.join(output_dir, \"fc2_bias.bin\"))\n",
    "\n",
    "    # Save Fully Connected (fc3) weights and biases\n",
    "    fc3_weights, fc3_bias = model.layers[layer_map[\"fc3\"]].get_weights()\n",
    "    fc3_weights.flatten().astype('float32').tofile(os.path.join(output_dir, \"fc3_weights.bin\"))\n",
    "    fc3_bias.flatten().astype('float32').tofile(os.path.join(output_dir, \"fc3_bias.bin\"))\n",
    "    print(\"All weights and biases saved as .bin files.\")\n",
    "    #---------------------------------------------------------------------------------------\n",
    "\n",
    "\n",
    "    # Save the model weights in HDF5 format\n",
    "    # Save the model weights in HDF5 format\n",
    "    hdf5_file = \"weights/lenet_weights_new.hdf5\"\n",
    "    model.save_weights(hdf5_file)\n",
    "    print(f\"Weights saved to {hdf5_file}\")\n",
    "\n",
    "\n",
    "# Run the training and save the weights-\n",
    "train_and_save()"
   ]
  },
  {
   "cell_type": "code",
   "execution_count": null,
   "id": "6c797ae4-41f4-47f4-b0f8-86aef7c988cf",
   "metadata": {},
   "outputs": [],
   "source": []
  },
  {
   "cell_type": "code",
   "execution_count": 15,
   "id": "bc3a9b18-5b95-4184-9b63-26f7aacd9525",
   "metadata": {},
   "outputs": [
    {
     "name": "stdout",
     "output_type": "stream",
     "text": [
      "Model weights loaded successfully.\n"
     ]
    }
   ],
   "source": [
    "import numpy as np\n",
    "import matplotlib.pyplot as plt\n",
    "import cv2\n",
    "from tensorflow.keras import models\n",
    "\n",
    "# Load the saved model and weights\n",
    "MODEL_WEIGHTS_FILE = \"weights/lenet_weights_new.hdf5\"\n",
    "\n",
    "def build_lenet():\n",
    "    \"\"\"Rebuild the LeNet model architecture.\"\"\"\n",
    "    model = models.Sequential([\n",
    "        layers.Conv2D(6, kernel_size=5, activation='relu', kernel_regularizer='l2', input_shape=(32, 32, 1)),\n",
    "        layers.MaxPool2D(pool_size=2),\n",
    "        layers.Conv2D(16, kernel_size=5, activation='relu', kernel_regularizer='l2'),\n",
    "        layers.MaxPool2D(pool_size=2),\n",
    "        layers.Flatten(),\n",
    "        layers.Dense(120, activation='relu', kernel_regularizer='l2'),\n",
    "        layers.Dense(84, activation='relu', kernel_regularizer='l2'),\n",
    "        layers.Dense(10, activation='softmax'),\n",
    "    ])\n",
    "    return model\n",
    "\n",
    "# Load the model\n",
    "model = build_lenet()\n",
    "model.load_weights(MODEL_WEIGHTS_FILE)\n",
    "print(\"Model weights loaded successfully.\")\n",
    "\n",
    "# Function to preprocess an input image\n",
    "def preprocess_image(image_path):\n",
    "    \"\"\"Preprocess an input image for prediction.\"\"\"\n",
    "    img = cv2.imread(image_path, cv2.IMREAD_GRAYSCALE)  # Load the image in grayscale\n",
    "    img_resized = cv2.resize(img, (32, 32), interpolation=cv2.INTER_AREA)  # Resize to 32x32\n",
    "    img_normalized = img_resized / 255.0  # Normalize pixel values\n",
    "    img_reshaped = img_normalized.reshape(1, 32, 32, 1)  # Add batch and channel dimensions\n",
    "    return img_reshaped\n",
    "\n",
    "# Function to predict a single image\n",
    "def predict_image(model, image_path):\n",
    "    \"\"\"Predict the label for a single image using the trained model.\"\"\"\n",
    "    preprocessed_image = preprocess_image(image_path)\n",
    "    prediction = model.predict(preprocessed_image)\n",
    "    predicted_label = np.argmax(prediction)\n",
    "    confidence = np.max(prediction)\n",
    "\n",
    "    # Display the image\n",
    "    plt.imshow(preprocessed_image.reshape(32, 32), cmap='gray')\n",
    "    plt.title(f\"Predicted: {predicted_label}, Confidence: {confidence:.2f}\")\n",
    "    plt.axis('off')\n",
    "    plt.show()\n",
    "\n",
    "    return predicted_label, confidence\n"
   ]
  },
  {
   "cell_type": "code",
   "execution_count": 16,
   "id": "c61e0288-438b-4b5e-a507-f85fe39042fe",
   "metadata": {},
   "outputs": [
    {
     "name": "stdout",
     "output_type": "stream",
     "text": [
      " Volume in drive C is Windows\n",
      " Volume Serial Number is B426-88EF\n",
      "\n",
      " Directory of C:\\Users\\Baron\\Desktop\\EE_278_Repo\\EE_278\\%PATH_EE278%\\EE278_env\n",
      "\n",
      "11/22/2024  10:03 PM    <DIR>          .\n",
      "09/28/2024  01:15 PM    <DIR>          ..\n",
      "09/28/2024  01:27 PM    <DIR>          .ipynb_checkpoints\n",
      "11/26/2024  01:48 PM    <DIR>          Assignments\n",
      "11/22/2024  09:56 PM    <DIR>          bin_files\n",
      "09/28/2024  01:52 PM    <DIR>          File Transfer\n",
      "09/28/2024  01:15 PM    <DIR>          Include\n",
      "11/23/2024  12:15 AM           270,344 lenet_weights.h5\n",
      "09/28/2024  01:15 PM    <DIR>          Lib\n",
      "11/22/2024  03:01 PM    <DIR>          pictures\n",
      "09/28/2024  01:15 PM               259 pyvenv.cfg\n",
      "09/28/2024  01:15 PM    <DIR>          Scripts\n",
      "11/22/2024  10:05 PM    <DIR>          weights\n",
      "               2 File(s)        270,603 bytes\n",
      "              11 Dir(s)  195,429,687,296 bytes free\n"
     ]
    }
   ],
   "source": [
    "ls"
   ]
  },
  {
   "cell_type": "code",
   "execution_count": 17,
   "id": "07ec7ed2-1e2a-4f3d-a903-90e80892a4af",
   "metadata": {},
   "outputs": [
    {
     "name": "stdout",
     "output_type": "stream",
     "text": [
      "1/1 [==============================] - 0s 169ms/step\n"
     ]
    },
    {
     "data": {
      "image/png": "[encoded data removed]",
      "text/plain": [
       "<Figure size 640x480 with 1 Axes>"
      ]
     },
     "metadata": {},
     "output_type": "display_data"
    },
    {
     "name": "stdout",
     "output_type": "stream",
     "text": [
      "Predicted Label: 9, Confidence: 0.96\n"
     ]
    }
   ],
   "source": [
    "# Test the function with a new image\n",
    "TEST_IMAGE_PATH = \"pictures/img_9.jpg\"  # Replace with the path to your test image\n",
    "predicted_label, confidence = predict_image(model, TEST_IMAGE_PATH)\n",
    "print(f\"Predicted Label: {predicted_label}, Confidence: {confidence:.2f}\")"
   ]
  },
  {
   "cell_type": "code",
   "execution_count": null,
   "id": "63438428-f78a-4221-b830-14993ad9e722",
   "metadata": {},
   "outputs": [],
   "source": []
  },
  {
   "cell_type": "markdown",
   "id": "b2b9506f-bd27-43a2-ba11-4e7fa9f04d64",
   "metadata": {},
   "source": [
    "### Pure Debug"
   ]
  },
  {
   "cell_type": "code",
   "execution_count": 18,
   "id": "4642aa8f-7c8c-4f26-9b8f-69eb9edc9053",
   "metadata": {
    "scrolled": true
   },
   "outputs": [
    {
     "name": "stdout",
     "output_type": "stream",
     "text": [
      "Python input (first 10 values): [0.         0.         0.         0.         0.         0.\n",
      " 0.         0.         0.         0.00784314 0.00392157 0.\n",
      " 0.01176471 0.01960784 0.01176471 0.         0.         0.02745098\n",
      " 0.02352941 0.00784314]\n"
     ]
    }
   ],
   "source": [
    "import numpy as np\n",
    "input_image = np.fromfile(\"bin_files/img_9.bin\", dtype=np.float32)\n",
    "print(\"Python input (first 10 values):\", input_image[:20])"
   ]
  },
  {
   "cell_type": "code",
   "execution_count": 19,
   "id": "754b99ea-0c01-4f9f-b95e-3406bcbb5c04",
   "metadata": {},
   "outputs": [
    {
     "name": "stdout",
     "output_type": "stream",
     "text": [
      "Python Conv1 weights (first 5): [ 0.00537475 -0.01142931 -0.06441899  0.01086463  0.10696756]\n",
      "Python Conv1 bias (first 5): [-0.00034385  0.01645515  0.00172529 -0.05721566  0.06817765]\n"
     ]
    }
   ],
   "source": [
    "conv1_weights, conv1_bias = model.layers[0].get_weights()\n",
    "print(\"Python Conv1 weights (first 5):\", conv1_weights.flatten()[:5])\n",
    "print(\"Python Conv1 bias (first 5):\", conv1_bias[:5])"
   ]
  },
  {
   "cell_type": "code",
   "execution_count": 20,
   "id": "2d479f15-65ff-4522-899d-fd2ce341285e",
   "metadata": {},
   "outputs": [
    {
     "name": "stdout",
     "output_type": "stream",
     "text": [
      "1/1 [==============================] - 0s 110ms/step\n",
      "Python Conv1 output (first 20 values): [0.         0.01645515 0.00172529 0.         0.06817765 0.00235096\n",
      " 0.         0.01645515 0.00172529 0.         0.06817765 0.00235096\n",
      " 0.         0.01645515 0.00172529 0.         0.06817765 0.00235096\n",
      " 0.         0.01645515]\n"
     ]
    }
   ],
   "source": [
    "import numpy as np\n",
    "input_image = np.fromfile(\"bin_files/img_9.bin\", dtype=np.float32).reshape(32, 32, 1)\n",
    "conv1_model = models.Model(inputs=model.input, outputs=model.layers[0].output)  # Extract Conv1\n",
    "conv1_output = conv1_model.predict(input_image[np.newaxis, ...])\n",
    "print(\"Python Conv1 output (first 20 values):\", conv1_output.flatten()[:20])\n"
   ]
  },
  {
   "cell_type": "code",
   "execution_count": 22,
   "id": "d111d6bb-0f54-4a76-b705-a50b9bd2e517",
   "metadata": {},
   "outputs": [
    {
     "name": "stdout",
     "output_type": "stream",
     "text": [
      "Binary file converted to .npy and saved to: npy/img_9.npy\n"
     ]
    }
   ],
   "source": [
    "import numpy as np\n",
    "\n",
    "def convert_binary_to_npy(binary_file_path, npy_file_path, array_shape):\n",
    "    # Load data from the binary file\n",
    "    data = np.fromfile(binary_file_path, dtype=np.float32)  # Assuming float32 data type\n",
    "\n",
    "    # Reshape to the expected shape\n",
    "    reshaped_data = data.reshape(array_shape)\n",
    "\n",
    "    # Save to .npy format\n",
    "    np.save(npy_file_path, reshaped_data)\n",
    "    print(f\"Binary file converted to .npy and saved to: {npy_file_path}\")\n",
    "\n",
    "# Example usage:\n",
    "binary_file = \"bin_files/img_9.bin\"\n",
    "npy_file = \"npy/img_9.npy\"\n",
    "shape = (32, 32)  # Adjust shape based on your data, e.g., input image size\n",
    "\n",
    "convert_binary_to_npy(binary_file, npy_file, shape)"
   ]
  },
  {
   "cell_type": "code",
   "execution_count": 27,
   "id": "3f96a11f-8962-4752-80cf-dd18e399529a",
   "metadata": {},
   "outputs": [
    {
     "name": "stdout",
     "output_type": "stream",
     "text": [
      "Model weights loaded successfully.\n",
      "Conv1 output (first 5): [0.         0.01645515 0.00172529 0.         0.06817765 0.00235096\n",
      " 0.         0.01645515 0.00172529 0.         0.06817765 0.00235096\n",
      " 0.         0.01645515 0.00172529 0.         0.06817765 0.00235096\n",
      " 0.         0.01645515]\n"
     ]
    }
   ],
   "source": [
    "import tensorflow as tf\n",
    "import numpy as np\n",
    "MODEL_WEIGHTS_FILE = \"weights/lenet_weights_new.hdf5\"\n",
    "# Load the saved model and weights\n",
    "MODEL_WEIGHTS_FILE = \"weights/lenet_weights_new.hdf5\"\n",
    "\n",
    "def build_lenet():\n",
    "    \"\"\"Rebuild the LeNet model architecture.\"\"\"\n",
    "    model = models.Sequential([\n",
    "        layers.Conv2D(6, kernel_size=5, activation='relu', kernel_regularizer='l2', input_shape=(32, 32, 1)),\n",
    "        layers.MaxPool2D(pool_size=2),\n",
    "        layers.Conv2D(16, kernel_size=5, activation='relu', kernel_regularizer='l2'),\n",
    "        layers.MaxPool2D(pool_size=2),\n",
    "        layers.Flatten(),\n",
    "        layers.Dense(120, activation='relu', kernel_regularizer='l2'),\n",
    "        layers.Dense(84, activation='relu', kernel_regularizer='l2'),\n",
    "        layers.Dense(10, activation='softmax'),\n",
    "    ])\n",
    "    return model\n",
    "\n",
    "# Load the model\n",
    "model = build_lenet()\n",
    "model.load_weights(MODEL_WEIGHTS_FILE)\n",
    "print(\"Model weights loaded successfully.\")\n",
    "\n",
    "# Take a single input sample\n",
    "x_train_sample = np.load('npy/img_9.npy')  # Load your input sample (e.g., img_9.bin in numpy format)\n",
    "x_train_sample = x_train_sample.reshape(1, 32, 32, 1)  # Reshape for model input\n",
    "\n",
    "# Extract Conv1 layer output\n",
    "conv1_output = model.layers[0](x_train_sample).numpy()  # Assuming the first layer is Conv1\n",
    "\n",
    "# Print the first 5 values for comparison\n",
    "print(\"Conv1 output (first 5):\", conv1_output.flatten()[:20])"
   ]
  },
  {
   "cell_type": "markdown",
   "id": "619be2c6-0b42-4e9d-b1e5-b4b43e972c0a",
   "metadata": {},
   "source": [
    "### conv2d_python"
   ]
  },
  {
   "cell_type": "code",
   "execution_count": 28,
   "id": "285ac48e-07fb-4792-812b-3326306473c3",
   "metadata": {},
   "outputs": [
    {
     "name": "stdout",
     "output_type": "stream",
     "text": [
      "Python Conv1 output (first 10 values): [-0.00034385 -0.00034385 -0.00034385 -0.00034385 -0.00034385  0.00152037\n",
      "  0.00222281  0.00341615  0.00091078  0.00132743]\n"
     ]
    }
   ],
   "source": [
    "import numpy as np\n",
    "from scipy.signal import convolve2d\n",
    "\n",
    "def conv2d_python(input, filters, bias, input_size, filter_size, num_filters):\n",
    "    input = input.reshape(input_size, input_size)\n",
    "    filters = filters.reshape(num_filters, filter_size, filter_size)\n",
    "    output_size = input_size - filter_size + 1\n",
    "    output = np.zeros((num_filters, output_size, output_size))\n",
    "    for f in range(num_filters):\n",
    "        output[f] = convolve2d(input, filters[f], mode='valid') + bias[f]\n",
    "    return output\n",
    "\n",
    "# Load binary data and perform the same operation in Python\n",
    "input = np.fromfile(\"bin_files/img_5.bin\", dtype=np.float32).reshape(32, 32)\n",
    "filters = np.fromfile(\"bin_files/conv1_filters.bin\", dtype=np.float32)\n",
    "bias = np.fromfile(\"bin_files/conv1_bias.bin\", dtype=np.float32)\n",
    "\n",
    "conv1_output = conv2d_python(input, filters, bias, 32, 5, 6)\n",
    "print(\"Python Conv1 output (first 10 values):\", conv1_output.flatten()[:10])"
   ]
  },
  {
   "cell_type": "code",
   "execution_count": null,
   "id": "43944814-027f-4d4b-9f08-6164700efda0",
   "metadata": {},
   "outputs": [],
   "source": []
  }
 ],
 "metadata": {
  "kernelspec": {
   "display_name": "Python 3 (ipykernel)",
   "language": "python",
   "name": "python3"
  },
  "language_info": {
   "codemirror_mode": {
    "name": "ipython",
    "version": 3
   },
   "file_extension": ".py",
   "mimetype": "text/x-python",
   "name": "python",
   "nbconvert_exporter": "python",
   "pygments_lexer": "ipython3",
   "version": "3.8.18"
  }
 },
 "nbformat": 4,
 "nbformat_minor": 5
}
