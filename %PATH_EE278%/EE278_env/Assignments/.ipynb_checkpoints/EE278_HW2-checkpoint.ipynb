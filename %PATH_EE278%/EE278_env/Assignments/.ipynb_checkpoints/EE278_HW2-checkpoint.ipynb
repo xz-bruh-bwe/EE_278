{
 "cells": [
  {
   "cell_type": "code",
   "execution_count": 2,
   "id": "0447f0e5-5440-40f1-b4a9-6c218611efde",
   "metadata": {},
   "outputs": [
    {
     "data": {
      "text/plain": [
       "'C:\\\\Users\\\\Baron\\\\Desktop\\\\EE_267_Repo\\\\EE_267\\\\%PATH_EE267%\\\\EE267_env\\\\EE278'"
      ]
     },
     "execution_count": 2,
     "metadata": {},
     "output_type": "execute_result"
    }
   ],
   "source": [
    "pwd"
   ]
  },
  {
   "cell_type": "markdown",
   "id": "0a104c8a-f71e-4a48-8c3f-ecbabee1b9f8",
   "metadata": {},
   "source": [
    "### HW2 IEEE 754 Floating point standard"
   ]
  },
  {
   "cell_type": "code",
   "execution_count": 5,
   "id": "1c942c0d-1d64-4c1e-8d25-6ac68ffb88bf",
   "metadata": {},
   "outputs": [
    {
     "name": "stdout",
     "output_type": "stream",
     "text": [
      "FP32: 1011_1101_1011_0011_0011_0011_0011_0011\n",
      "FP16: 1010_1101_1001_1010\n",
      "BF16: 1011_1101_1011_0011\n",
      "8-bit Fixed Point: -000_0001\n",
      "5-bit Fixed Point: 0000_0\n"
     ]
    }
   ],
   "source": [
    "import struct\n",
    "import numpy as np\n",
    "\n",
    "def float_to_fp32(value):\n",
    "    \"\"\"Converts a float value to IEEE 754 single precision (FP32)\"\"\"\n",
    "    return struct.unpack('>I', struct.pack('>f', value))[0]\n",
    "\n",
    "def float_to_fp16(value):\n",
    "    \"\"\"Converts a float value to IEEE 754 half precision (FP16)\"\"\"\n",
    "    return np.float16(value).view(np.uint16)\n",
    "\n",
    "def float_to_bf16(value):\n",
    "    \"\"\"Converts a float value to BF16 (Bfloat16)\"\"\"\n",
    "    # Convert to FP32 first\n",
    "    fp32 = float_to_fp32(value)\n",
    "    # Extract top 16 bits\n",
    "    bf16 = (fp32 >> 16) & 0xFFFF\n",
    "    return bf16\n",
    "    \n",
    "def float_to_fixed_point(value, total_bits, fractional_bits):\n",
    "    \"\"\"Converts a float value to a fixed-point representation\"\"\"\n",
    "    scale_factor = 2 ** fractional_bits\n",
    "    fixed_point_value = int(value * scale_factor)\n",
    "    max_value = 2 ** total_bits - 1\n",
    "    if fixed_point_value > max_value:\n",
    "        fixed_point_value = max_value\n",
    "    return fixed_point_value\n",
    "\n",
    "def to_binary_str(value, bit_length):\n",
    "    \"\"\"Converts a number to a binary string, with underscores between each nibble (4 bits)\"\"\"\n",
    "    return '_'.join(f'{value:0{bit_length}b}'[i:i+4] for i in range(0, bit_length, 4))\n",
    "\n",
    "\n",
    "# Value to convert\n",
    "value = -.0875\n",
    "\n",
    "\n",
    "# FP32 (Single Precision)\n",
    "fp32_bin = to_binary_str(float_to_fp32(value), 32)\n",
    "print(f\"FP32: {fp32_bin}\")\n",
    "\n",
    "# FP16 (Half Precision)\n",
    "fp16_bin = to_binary_str(float_to_fp16(value), 16)\n",
    "print(f\"FP16: {fp16_bin}\")\n",
    "\n",
    "# BF16 (Bfloat16)\n",
    "bf16_bin = to_binary_str(float_to_bf16(value), 16)\n",
    "print(f\"BF16: {bf16_bin}\")\n",
    "\n",
    "# 8-bit fixed-point (assuming 4 integer bits, 4 fractional bits)\n",
    "fixed_8bit = float_to_fixed_point(value, 8, 4)\n",
    "fixed_8bit_bin = to_binary_str(fixed_8bit, 8)\n",
    "print(f\"8-bit Fixed Point: {fixed_8bit_bin}\")\n",
    "\n",
    "# 5-bit fixed-point (assuming 2 integer bits, 3 fractional bits)\n",
    "fixed_5bit = float_to_fixed_point(value, 5, 3)\n",
    "fixed_5bit_bin = to_binary_str(fixed_5bit, 5)\n",
    "print(f\"5-bit Fixed Point: {fixed_5bit_bin}\")"
   ]
  },
  {
   "cell_type": "code",
   "execution_count": 10,
   "id": "37a7a762-9033-467a-aebf-e3fbbffc5efb",
   "metadata": {},
   "outputs": [
    {
     "name": "stdout",
     "output_type": "stream",
     "text": [
      "FP32 bits (grouped): 1011_1111_0110_0000_0000_0000_0000_0000\n",
      "FP16 bits (grouped): 1011_1011_0000_0000\n",
      "BF16 bits (grouped): 1011_1111_0110_0000\n",
      "8-bit Fixed Point bits (grouped): 1111_0010\n",
      "5-bit Fixed Point bits (grouped): 11001\n"
     ]
    }
   ],
   "source": [
    "import numpy as np\n",
    "import struct\n",
    "\n",
    "# Function to group bits into blocks of 4 separated by underscores\n",
    "def group_bits(bits, group_size=4):\n",
    "    return '_'.join([bits[i:i+group_size] for i in range(0, len(bits), group_size)])\n",
    "\n",
    "# Input value\n",
    "value = -(0.875)\n",
    "\n",
    "# FP32 (Single Precision 32-bit)\n",
    "fp32 = np.float32(value)\n",
    "fp32_bits = np.binary_repr(np.frombuffer(np.float32(fp32).tobytes(), dtype=np.uint32)[0], width=32)\n",
    "fp32_grouped = group_bits(fp32_bits)\n",
    "\n",
    "# FP16 (Half Precision 16-bit)\n",
    "fp16 = np.float16(value)\n",
    "fp16_bits = np.binary_repr(np.frombuffer(np.float16(fp16).tobytes(), dtype=np.uint16)[0], width=16)\n",
    "fp16_grouped = group_bits(fp16_bits)\n",
    "\n",
    "# BF16 (Brain Floating Point 16-bit)\n",
    "# BF16 is truncated from FP32, keeping the first 16 bits.\n",
    "bf16_bits = fp32_bits[:16]\n",
    "bf16_grouped = group_bits(bf16_bits)\n",
    "\n",
    "# 8-bit fixed-point representation (with 4 integer bits and 4 fractional bits)\n",
    "scale_8bit = 2**4\n",
    "fixed8bit = int(value * scale_8bit)\n",
    "fixed8bit_bits = np.binary_repr(fixed8bit & 0xFF, width=8)\n",
    "fixed8bit_grouped = group_bits(fixed8bit_bits)\n",
    "\n",
    "# 5-bit fixed-point representation (with 2 integer bits and 3 fractional bits)\n",
    "scale_5bit = 2**3\n",
    "fixed5bit = int(value * scale_5bit)\n",
    "fixed5bit_bits = np.binary_repr(fixed5bit & 0x1F, width=5)\n",
    "fixed5bit_grouped = group_bits(fixed5bit_bits, group_size=5)  # No need for 4-bit groups in 5-bit representation\n",
    "\n",
    "# Output results\n",
    "print(f\"FP32 bits (grouped): {fp32_grouped}\")\n",
    "print(f\"FP16 bits (grouped): {fp16_grouped}\")\n",
    "print(f\"BF16 bits (grouped): {bf16_grouped}\")\n",
    "print(f\"8-bit Fixed Point bits (grouped): {fixed8bit_grouped}\")\n",
    "print(f\"5-bit Fixed Point bits (grouped): {fixed5bit_grouped}\")"
   ]
  },
  {
   "cell_type": "code",
   "execution_count": 7,
   "id": "42ece852-f466-48da-b2fc-425ca7675d8f",
   "metadata": {},
   "outputs": [
    {
     "name": "stdout",
     "output_type": "stream",
     "text": [
      "FP32 (Single Precision):\n",
      "Binary: 10111101101100110011001100110011\n",
      "Hexadecimal: BDB33333\n",
      "\n",
      "FP16 (Half Precision):\n",
      "Binary: 0100000000000000\n",
      "Hexadecimal: 4000\n",
      "\n",
      "BF16 (Bfloat16):\n",
      "Binary: 1010110110011010\n",
      "Hexadecimal: AD9A\n",
      "\n",
      "8-bit Fixed Point:\n",
      "Binary: 11111111\n",
      "Hexadecimal: FF\n",
      "\n",
      "5-bit Fixed Point:\n",
      "Binary: 11111\n",
      "Hexadecimal: 1F\n"
     ]
    }
   ],
   "source": [
    "import struct\n",
    "import numpy as np\n",
    "\n",
    "def float_to_bin(num, width):\n",
    "    \"\"\" Convert a floating-point number to binary string representation. \"\"\"\n",
    "    return format(struct.unpack('!I', struct.pack('!f', num))[0], '032b')[-width:]\n",
    "\n",
    "def fp32_to_binary(num):\n",
    "    \"\"\" Convert number to FP32 binary string. \"\"\"\n",
    "    return float_to_bin(num, 32)\n",
    "\n",
    "def fp16_to_binary(num):\n",
    "    \"\"\" Convert number to FP16 binary string. \"\"\"\n",
    "    # Using numpy to handle half-precision conversion\n",
    "    fp16 = np.float16(num)\n",
    "    return float_to_bin(fp16, 16)\n",
    "\n",
    "def bf16_to_binary(num):\n",
    "    \"\"\" Convert number to BF16 binary string. \"\"\"\n",
    "    # Using numpy to handle bfloat16 conversion\n",
    "    bf16 = np.float32(num).astype(np.float16).view(np.uint16)\n",
    "    return format(bf16, '016b')[-16:]\n",
    "\n",
    "def fixed_point_to_binary(num, integer_bits, fractional_bits):\n",
    "    \"\"\" Convert number to fixed-point binary representation. \"\"\"\n",
    "    scaling_factor = 2 ** fractional_bits\n",
    "    fixed_point_value = int(round(num * scaling_factor))\n",
    "    \n",
    "    # Ensure it fits within the bit width\n",
    "    bit_width = integer_bits + fractional_bits\n",
    "    fixed_point_value &= (1 << bit_width) - 1\n",
    "    \n",
    "    return format(fixed_point_value, f'0{bit_width}b')\n",
    "\n",
    "def main():\n",
    "    num = -.0875\n",
    "    \n",
    "    # FP32\n",
    "    fp32_binary = fp32_to_binary(num)\n",
    "    fp32_hex = hex(int(fp32_binary, 2))[2:].upper().zfill(8)\n",
    "    \n",
    "    # FP16\n",
    "    fp16_binary = fp16_to_binary(num)\n",
    "    fp16_hex = hex(int(fp16_binary, 2))[2:].upper().zfill(4)\n",
    "    \n",
    "    # BF16\n",
    "    bf16_binary = bf16_to_binary(num)\n",
    "    bf16_hex = hex(int(bf16_binary, 2))[2:].upper().zfill(4)\n",
    "    \n",
    "    # 8-bit Fixed Point (4 integer bits / 4 fractional bits)\n",
    "    fixed8_binary = fixed_point_to_binary(num, 4, 4)\n",
    "    fixed8_hex = hex(int(fixed8_binary, 2))[2:].upper().zfill(2)\n",
    "    \n",
    "    # 5-bit Fixed Point (2 integer bits / 3 fractional bits)\n",
    "    fixed5_binary = fixed_point_to_binary(num, 2, 3)\n",
    "    fixed5_hex = hex(int(fixed5_binary, 2))[2:].upper().zfill(1)\n",
    "    \n",
    "    # Print Results\n",
    "    print(\"FP32 (Single Precision):\")\n",
    "    print(f\"Binary: {fp32_binary}\")\n",
    "    print(f\"Hexadecimal: {fp32_hex}\")\n",
    "    \n",
    "    print(\"\\nFP16 (Half Precision):\")\n",
    "    print(f\"Binary: {fp16_binary}\")\n",
    "    print(f\"Hexadecimal: {fp16_hex}\")\n",
    "    \n",
    "    print(\"\\nBF16 (Bfloat16):\")\n",
    "    print(f\"Binary: {bf16_binary}\")\n",
    "    print(f\"Hexadecimal: {bf16_hex}\")\n",
    "    \n",
    "    print(\"\\n8-bit Fixed Point:\")\n",
    "    print(f\"Binary: {fixed8_binary}\")\n",
    "    print(f\"Hexadecimal: {fixed8_hex}\")\n",
    "    \n",
    "    print(\"\\n5-bit Fixed Point:\")\n",
    "    print(f\"Binary: {fixed5_binary}\")\n",
    "    print(f\"Hexadecimal: {fixed5_hex}\")\n",
    "\n",
    "if __name__ == \"__main__\":\n",
    "    main()"
   ]
  },
  {
   "cell_type": "code",
   "execution_count": 53,
   "id": "56687676-8efa-4273-bd4b-bd9ae4846150",
   "metadata": {},
   "outputs": [
    {
     "name": "stdout",
     "output_type": "stream",
     "text": [
      "FP32 (Single Precision):\n",
      "Binary: 01110111110011000010101100110010\n",
      "Hexadecimal: 77CC2B32\n"
     ]
    }
   ],
   "source": [
    "import struct\n",
    "import numpy as np\n",
    "\n",
    "def float_to_fp32_binary(num):\n",
    "    \"\"\" Convert a floating-point number to IEEE 754 FP32 binary string representation. \"\"\"\n",
    "    packed = struct.pack('!f', num)\n",
    "    return ''.join(f'{byte:08b}' for byte in packed[::-1])\n",
    "\n",
    "def main():\n",
    "    num = 0.00000001\n",
    "    fp32_binary = float_to_fp32_binary(num)\n",
    "    fp32_hex = hex(int(fp32_binary, 2))[2:].upper().zfill(8)\n",
    "    \n",
    "    # Print Results\n",
    "    print(\"FP32 (Single Precision):\")\n",
    "    print(f\"Binary: {fp32_binary}\")\n",
    "    print(f\"Hexadecimal: {fp32_hex}\")\n",
    "\n",
    "if __name__ == \"__main__\":\n",
    "    main()"
   ]
  },
  {
   "cell_type": "code",
   "execution_count": 14,
   "id": "e6c1ff35-8316-4a6a-af2c-bf2a8a86ca65",
   "metadata": {},
   "outputs": [
    {
     "ename": "ModuleNotFoundError",
     "evalue": "No module named 'tesseract'",
     "output_type": "error",
     "traceback": [
      "\u001b[1;31m---------------------------------------------------------------------------\u001b[0m",
      "\u001b[1;31mModuleNotFoundError\u001b[0m                       Traceback (most recent call last)",
      "Cell \u001b[1;32mIn[14], line 1\u001b[0m\n\u001b[1;32m----> 1\u001b[0m \u001b[38;5;28;01mimport\u001b[39;00m \u001b[38;5;21;01mtesseract\u001b[39;00m\n\u001b[0;32m      2\u001b[0m \u001b[38;5;66;03m# Load the third image and extract text\u001b[39;00m\n\u001b[0;32m      3\u001b[0m image_path_3 \u001b[38;5;241m=\u001b[39m \u001b[38;5;124m\"\u001b[39m\u001b[38;5;124mC:/Users/Baron/Desktop/EE_267_Repo/EE_267/\u001b[39m\u001b[38;5;124m%\u001b[39m\u001b[38;5;124mPATH_EE267\u001b[39m\u001b[38;5;124m%\u001b[39m\u001b[38;5;124m/EE267_env/EE278/img3.png\u001b[39m\u001b[38;5;124m\"\u001b[39m\n",
      "\u001b[1;31mModuleNotFoundError\u001b[0m: No module named 'tesseract'"
     ]
    }
   ],
   "source": [
    "import tesseract\n",
    "# Load the third image and extract text\n",
    "image_path_3 = \"C:/Users/Baron/Desktop/EE_267_Repo/EE_267/%PATH_EE267%/EE267_env/EE278/img3.png\"\n",
    "img_3 = Image.open(image_path_3)\n",
    "\n",
    "# Convert the third image to text using pytesseract\n",
    "text_3 = pytesseract.image_to_string(img_3)\n",
    "\n",
    "# Show the extracted text\n",
    "text_3"
   ]
  }
 ],
 "metadata": {
  "kernelspec": {
   "display_name": "Python 3 (ipykernel)",
   "language": "python",
   "name": "python3"
  },
  "language_info": {
   "codemirror_mode": {
    "name": "ipython",
    "version": 3
   },
   "file_extension": ".py",
   "mimetype": "text/x-python",
   "name": "python",
   "nbconvert_exporter": "python",
   "pygments_lexer": "ipython3",
   "version": "3.11.5"
  }
 },
 "nbformat": 4,
 "nbformat_minor": 5
}
