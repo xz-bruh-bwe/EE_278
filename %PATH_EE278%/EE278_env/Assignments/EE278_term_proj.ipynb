{
 "cells": [
  {
   "cell_type": "code",
   "execution_count": 1,
   "id": "28fe325b-5ce5-40f0-8725-cd07319cb43b",
   "metadata": {},
   "outputs": [],
   "source": [
    "## Conv MNIST Dataset to Bin File"
   ]
  },
  {
   "cell_type": "code",
   "execution_count": 2,
   "id": "18b26e31-2429-4f7f-9af2-0b04e5579e77",
   "metadata": {},
   "outputs": [],
   "source": [
    "bin_location = r\"C:\\Users\\Baron\\Documents\\Grad_School\\EE_278\\Projects\\EE278_term_project\\mnist_bin\""
   ]
  },
  {
   "cell_type": "code",
   "execution_count": 28,
   "id": "a7b1e26d-6423-4c8f-936f-bba419b00160",
   "metadata": {},
   "outputs": [],
   "source": [
    "import os\n",
    "import cv2\n",
    "import numpy as np\n",
    "\n",
    "import shutil\n",
    "\n",
    "def preprocess_image(image_path, output_dir):\n",
    "    try:\n",
    "        # Dynamically create the .bin file name\n",
    "        output_name = os.path.splitext(os.path.basename(image_path))[0] + \".bin\"\n",
    "        output_path = os.path.join(output_dir, output_name)\n",
    "\n",
    "        # Ensure the output directory exists\n",
    "        os.makedirs(output_dir, exist_ok=True)\n",
    "\n",
    "        # Load the image in grayscale\n",
    "        img = cv2.imread(image_path, cv2.IMREAD_GRAYSCALE)\n",
    "        if img is None:\n",
    "            raise ValueError(f\"Error: Could not load image from '{image_path}'. Ensure it is a valid file.\")\n",
    "\n",
    "        # Resize the image to 32x32\n",
    "        img_resized = cv2.resize(img, (32, 32), interpolation=cv2.INTER_AREA)\n",
    "\n",
    "        # Normalize pixel values to [0, 1]\n",
    "        img_normalized = img_resized / 255.0\n",
    "\n",
    "        # Flatten the image to a 1D array\n",
    "        img_flattened = img_normalized.flatten()\n",
    "\n",
    "        # Write the binary file\n",
    "        with open(output_path, 'wb') as bin_file:\n",
    "            img_flattened.astype('float32').tofile(bin_file)\n",
    "\n",
    "        print(f\"Preprocessed image saved to '{output_path}'.\")\n",
    "\n",
    "    except Exception as e:\n",
    "        print(f\"Error during preprocessing: {e}\")"
   ]
  },
  {
   "cell_type": "code",
   "execution_count": 29,
   "id": "f94325bf-086b-4e87-ae4c-a62a273f7ba5",
   "metadata": {},
   "outputs": [],
   "source": [
    "os.environ[\"PATH_EE278\"] = \"C:/Users/Baron/Desktop/EE_278_Repo/EE_278/\"\n"
   ]
  },
  {
   "cell_type": "code",
   "execution_count": 30,
   "id": "05dadbb8-c166-45d7-ba7c-d22f652ea526",
   "metadata": {},
   "outputs": [
    {
     "name": "stdout",
     "output_type": "stream",
     "text": [
      "Preprocessed image saved to 'C:/Users/Baron/Desktop/EE_278_Repo/EE_278/%PATH_EE278%/EE278_env/bin_files\\img_0.bin'.\n"
     ]
    }
   ],
   "source": [
    "# Example usage\n",
    "num_location = r\"C:\\Users\\Baron\\Desktop\\EE_278_Repo\\EE_278\\%PATH_EE278%\\EE278_env\\pictures\\img_0.jpg\"\n",
    "bin_location = r\"C:/Users/Baron/Desktop/EE_278_Repo/EE_278/%PATH_EE278%/EE278_env/bin_files\"\n",
    "\n",
    "preprocess_image(num_location, bin_location)"
   ]
  },
  {
   "cell_type": "code",
   "execution_count": null,
   "id": "127641d1-571a-40c8-ba16-9978b18f6897",
   "metadata": {},
   "outputs": [],
   "source": []
  },
  {
   "cell_type": "code",
   "execution_count": 35,
   "id": "b677d1e6-2a9d-4d54-9452-11670a267345",
   "metadata": {},
   "outputs": [],
   "source": [
    "import numpy as np\n",
    "import os\n",
    "import numpy as np\n",
    "import matplotlib.pyplot as plt\n",
    "\n",
    "def read_and_display_binary_image(bin_path, shape=(32, 32)):\n",
    "    \"\"\"\n",
    "    Reads a binary file, reshapes it into an image, and displays it using matplotlib.\n",
    "    \n",
    "    Parameters:\n",
    "        bin_path (str): Path to the binary file to be read.\n",
    "        shape (tuple): Shape to reshape the flat array into (default: (32, 32)).\n",
    "    \n",
    "    Returns:\n",
    "        np.ndarray: The reshaped array containing the image data.\n",
    "    \"\"\"\n",
    "    try:\n",
    "        # Check if the file exists\n",
    "        if not os.path.exists(bin_path):\n",
    "            raise FileNotFoundError(f\"Error: The file '{bin_path}' does not exist.\")\n",
    "\n",
    "        # Read the binary file into a NumPy array\n",
    "        data = np.fromfile(bin_path, dtype='float32')\n",
    "\n",
    "        # Check if the data can be reshaped to the specified shape\n",
    "        if data.size != np.prod(shape):\n",
    "            raise ValueError(f\"Error: Data size {data.size} does not match the expected shape {shape}.\")\n",
    "\n",
    "        # Reshape the data to the specified shape\n",
    "        image = data.reshape(shape)\n",
    "        \n",
    "        # Display the image using matplotlib\n",
    "        plt.imshow(image, cmap='gray')\n",
    "        plt.title(\"Binary Image\")\n",
    "        plt.colorbar()  # Optional: show pixel intensity scale\n",
    "        plt.show()\n",
    "\n",
    "        print(f\"Binary image from '{bin_path}' successfully displayed.\")\n",
    "        return image\n",
    "\n",
    "    except Exception as e:\n",
    "        print(f\"Error reading or displaying binary file: {e}\")\n",
    "        return None"
   ]
  },
  {
   "cell_type": "code",
   "execution_count": 44,
   "id": "6607d0e1-710f-498c-8c3c-22b8972714d3",
   "metadata": {},
   "outputs": [
    {
     "data": {
      "text/plain": [
       "'C:\\\\Users\\\\Baron\\\\Desktop\\\\EE_278_Repo\\\\EE_278\\\\%PATH_EE278%\\\\EE278_env'"
      ]
     },
     "execution_count": 44,
     "metadata": {},
     "output_type": "execute_result"
    }
   ],
   "source": [
    "pwd"
   ]
  },
  {
   "cell_type": "code",
   "execution_count": 46,
   "id": "1e108f62-5868-4272-9ae0-3efe2ae949a7",
   "metadata": {},
   "outputs": [
    {
     "data": {
      "image/png": "[encoded data removed]",
      "text/plain": [
       "<Figure size 640x480 with 2 Axes>"
      ]
     },
     "metadata": {},
     "output_type": "display_data"
    },
    {
     "name": "stdout",
     "output_type": "stream",
     "text": [
      "Binary image from 'bin_files/img_0.bin' successfully displayed.\n",
      "Image Array:\n",
      "[[0. 0. 0. ... 0. 0. 0.]\n",
      " [0. 0. 0. ... 0. 0. 0.]\n",
      " [0. 0. 0. ... 0. 0. 0.]\n",
      " ...\n",
      " [0. 0. 0. ... 0. 0. 0.]\n",
      " [0. 0. 0. ... 0. 0. 0.]\n",
      " [0. 0. 0. ... 0. 0. 0.]]\n"
     ]
    }
   ],
   "source": [
    "# Path to the binary file\n",
    "bin_path = 'bin_files/img_0.bin'\n",
    "\n",
    "# Read the binary file and reshape it to (32, 32)\n",
    "image_array = read_and_display_binary_image(bin_path, shape=(32, 32))\n",
    "\n",
    "# Check the content if successfully read\n",
    "if image_array is not None:\n",
    "    print(\"Image Array:\")\n",
    "    print(image_array)"
   ]
  },
  {
   "cell_type": "code",
   "execution_count": 49,
   "id": "2a3dc293-4233-49be-9031-1e2a2e115119",
   "metadata": {},
   "outputs": [
    {
     "name": "stderr",
     "output_type": "stream",
     "text": [
      "C:\\Users\\Baron\\anaconda3\\Lib\\site-packages\\keras\\src\\layers\\convolutional\\base_conv.py:107: UserWarning: Do not pass an `input_shape`/`input_dim` argument to a layer. When using Sequential models, prefer using an `Input(shape)` object as the first layer in the model instead.\n",
      "  super().__init__(activity_regularizer=activity_regularizer, **kwargs)\n"
     ]
    },
    {
     "name": "stdout",
     "output_type": "stream",
     "text": [
      "Epoch 1/5\n",
      "\u001b[1m938/938\u001b[0m \u001b[32m━━━━━━━━━━━━━━━━━━━━\u001b[0m\u001b[37m\u001b[0m \u001b[1m5s\u001b[0m 4ms/step - accuracy: 0.8472 - loss: 0.5052\n",
      "Epoch 2/5\n",
      "\u001b[1m938/938\u001b[0m \u001b[32m━━━━━━━━━━━━━━━━━━━━\u001b[0m\u001b[37m\u001b[0m \u001b[1m4s\u001b[0m 4ms/step - accuracy: 0.9750 - loss: 0.0776\n",
      "Epoch 3/5\n",
      "\u001b[1m938/938\u001b[0m \u001b[32m━━━━━━━━━━━━━━━━━━━━\u001b[0m\u001b[37m\u001b[0m \u001b[1m4s\u001b[0m 4ms/step - accuracy: 0.9828 - loss: 0.0539\n",
      "Epoch 4/5\n",
      "\u001b[1m938/938\u001b[0m \u001b[32m━━━━━━━━━━━━━━━━━━━━\u001b[0m\u001b[37m\u001b[0m \u001b[1m3s\u001b[0m 4ms/step - accuracy: 0.9873 - loss: 0.0412\n",
      "Epoch 5/5\n",
      "\u001b[1m938/938\u001b[0m \u001b[32m━━━━━━━━━━━━━━━━━━━━\u001b[0m\u001b[37m\u001b[0m \u001b[1m3s\u001b[0m 4ms/step - accuracy: 0.9895 - loss: 0.0345\n",
      "313/313 - 1s - 2ms/step - accuracy: 0.9832 - loss: 0.0564\n",
      "Test Loss: 0.05643640086054802, Test Accuracy: 0.9832000136375427\n",
      "All weights and biases saved as .bin files.\n"
     ]
    }
   ],
   "source": [
    "import os\n",
    "import numpy as np\n",
    "from tensorflow.keras import models, layers, datasets\n",
    "\n",
    "# Create directories for saving weights and biases\n",
    "def create_output_dirs(output_dir):\n",
    "    os.makedirs(output_dir, exist_ok=True)\n",
    "\n",
    "# Save weights and biases as .bin files\n",
    "def save_weights_as_bin(model, output_dir):\n",
    "    # Layer mapping\n",
    "    layer_map = {\n",
    "        \"conv1\": 0,  # First Conv2D layer\n",
    "        \"conv2\": 2,  # Second Conv2D layer\n",
    "        \"fc1\": 5,    # First Dense layer\n",
    "        \"fc2\": 6,    # Second Dense layer\n",
    "        \"fc3\": 7     # Output Dense layer\n",
    "    }\n",
    "\n",
    "    # Save Conv1 weights and biases\n",
    "    conv1_weights, conv1_bias = model.layers[layer_map[\"conv1\"]].get_weights()\n",
    "    conv1_weights.flatten().astype('float32').tofile(os.path.join(output_dir, \"conv1_filters.bin\"))\n",
    "    conv1_bias.flatten().astype('float32').tofile(os.path.join(output_dir, \"conv1_bias.bin\"))\n",
    "\n",
    "    # Save Conv2 weights and biases\n",
    "    conv2_weights, conv2_bias = model.layers[layer_map[\"conv2\"]].get_weights()\n",
    "    conv2_weights.flatten().astype('float32').tofile(os.path.join(output_dir, \"conv2_filters.bin\"))\n",
    "    conv2_bias.flatten().astype('float32').tofile(os.path.join(output_dir, \"conv2_bias.bin\"))\n",
    "\n",
    "    # Save Fully Connected (fc1) weights and biases\n",
    "    fc1_weights, fc1_bias = model.layers[layer_map[\"fc1\"]].get_weights()\n",
    "    fc1_weights.flatten().astype('float32').tofile(os.path.join(output_dir, \"fc1_weights.bin\"))\n",
    "    fc1_bias.flatten().astype('float32').tofile(os.path.join(output_dir, \"fc1_bias.bin\"))\n",
    "\n",
    "    # Save Fully Connected (fc2) weights and biases\n",
    "    fc2_weights, fc2_bias = model.layers[layer_map[\"fc2\"]].get_weights()\n",
    "    fc2_weights.flatten().astype('float32').tofile(os.path.join(output_dir, \"fc2_weights.bin\"))\n",
    "    fc2_bias.flatten().astype('float32').tofile(os.path.join(output_dir, \"fc2_bias.bin\"))\n",
    "\n",
    "    # Save Fully Connected (fc3) weights and biases\n",
    "    fc3_weights, fc3_bias = model.layers[layer_map[\"fc3\"]].get_weights()\n",
    "    fc3_weights.flatten().astype('float32').tofile(os.path.join(output_dir, \"fc3_weights.bin\"))\n",
    "    fc3_bias.flatten().astype('float32').tofile(os.path.join(output_dir, \"fc3_bias.bin\"))\n",
    "\n",
    "    print(\"All weights and biases saved as .bin files.\")\n",
    "\n",
    "# Preprocess the MNIST dataset\n",
    "def preprocess_mnist():\n",
    "     # Load the MNIST dataset\n",
    "    (x_train, y_train), (x_test, y_test) = datasets.mnist.load_data()\n",
    "\n",
    "    # Normalize pixel values to [0, 1]\n",
    "    x_train, x_test = x_train / 255.0, x_test / 255.0\n",
    "\n",
    "    # Resize each image to 32x32 using cv2\n",
    "    x_train_resized = np.array([cv2.resize(img, (32, 32)) for img in x_train])\n",
    "    x_test_resized = np.array([cv2.resize(img, (32, 32)) for img in x_test])\n",
    "\n",
    "    # Add a channel dimension (32x32x1)\n",
    "    x_train = x_train_resized.reshape(-1, 32, 32, 1)\n",
    "    x_test = x_test_resized.reshape(-1, 32, 32, 1)\n",
    "\n",
    "    return x_train, y_train, x_test, y_test\n",
    "\n",
    "# Build the LeNet model\n",
    "def build_lenet():\n",
    "    model = models.Sequential([\n",
    "        layers.Conv2D(6, kernel_size=5, activation='relu', input_shape=(32, 32, 1)),\n",
    "        layers.MaxPool2D(pool_size=2),\n",
    "        layers.Conv2D(16, kernel_size=5, activation='relu'),\n",
    "        layers.MaxPool2D(pool_size=2),\n",
    "        layers.Flatten(),\n",
    "        layers.Dense(120, activation='relu'),\n",
    "        layers.Dense(84, activation='relu'),\n",
    "        layers.Dense(10, activation='softmax'),\n",
    "    ])\n",
    "    model.compile(optimizer='adam', loss='sparse_categorical_crossentropy', metrics=['accuracy'])\n",
    "    return model\n",
    "\n",
    "# Train the model and save weights\n",
    "def train_and_save():\n",
    "    # Preprocess data\n",
    "    x_train, y_train, x_test, y_test = preprocess_mnist()\n",
    "\n",
    "    # Build the LeNet model\n",
    "    model = build_lenet()\n",
    "\n",
    "    # Train the model\n",
    "    model.fit(x_train, y_train, epochs=5, batch_size=64)\n",
    "\n",
    "    # Evaluate the model (optional)\n",
    "    test_loss, test_accuracy = model.evaluate(x_test, y_test, verbose=2)\n",
    "    print(f\"Test Loss: {test_loss}, Test Accuracy: {test_accuracy}\")\n",
    "\n",
    "    # Save the weights and biases as .bin files\n",
    "    output_dir = \"bin_files/\"\n",
    "    create_output_dirs(output_dir)\n",
    "    save_weights_as_bin(model, output_dir)\n",
    "\n",
    "# Run the training and save the weights\n",
    "train_and_save()"
   ]
  },
  {
   "cell_type": "code",
   "execution_count": 51,
   "id": "754b99ea-0c01-4f9f-b95e-3406bcbb5c04",
   "metadata": {},
   "outputs": [
    {
     "ename": "FileNotFoundError",
     "evalue": "[Errno 2] Unable to synchronously open file (unable to open file: name = 'lenet_weights.hdf5', errno = 2, error message = 'No such file or directory', flags = 0, o_flags = 0)",
     "output_type": "error",
     "traceback": [
      "\u001b[1;31m---------------------------------------------------------------------------\u001b[0m",
      "\u001b[1;31mFileNotFoundError\u001b[0m                         Traceback (most recent call last)",
      "Cell \u001b[1;32mIn[51], line 40\u001b[0m\n\u001b[0;32m     37\u001b[0m \u001b[38;5;66;03m# Example usage\u001b[39;00m\n\u001b[0;32m     38\u001b[0m \u001b[38;5;66;03m# Rebuild and reload the model if needed\u001b[39;00m\n\u001b[0;32m     39\u001b[0m model \u001b[38;5;241m=\u001b[39m build_lenet()  \u001b[38;5;66;03m# Use the function from the previous code\u001b[39;00m\n\u001b[1;32m---> 40\u001b[0m model\u001b[38;5;241m.\u001b[39mload_weights(\u001b[38;5;124m'\u001b[39m\u001b[38;5;124mlenet_weights.hdf5\u001b[39m\u001b[38;5;124m'\u001b[39m)  \u001b[38;5;66;03m# Load the trained weights (if saved earlier)\u001b[39;00m\n\u001b[0;32m     42\u001b[0m \u001b[38;5;66;03m# Path to the test image (e.g., from MNIST or your own dataset)\u001b[39;00m\n\u001b[0;32m     43\u001b[0m test_image_path \u001b[38;5;241m=\u001b[39m \u001b[38;5;124m\"\u001b[39m\u001b[38;5;124mpictures/img_0.jpg\u001b[39m\u001b[38;5;124m\"\u001b[39m  \u001b[38;5;66;03m# Replace with your image path\u001b[39;00m\n",
      "File \u001b[1;32m~\\anaconda3\\Lib\\site-packages\\keras\\src\\utils\\traceback_utils.py:122\u001b[0m, in \u001b[0;36mfilter_traceback.<locals>.error_handler\u001b[1;34m(*args, **kwargs)\u001b[0m\n\u001b[0;32m    119\u001b[0m     filtered_tb \u001b[38;5;241m=\u001b[39m _process_traceback_frames(e\u001b[38;5;241m.\u001b[39m__traceback__)\n\u001b[0;32m    120\u001b[0m     \u001b[38;5;66;03m# To get the full stack trace, call:\u001b[39;00m\n\u001b[0;32m    121\u001b[0m     \u001b[38;5;66;03m# `keras.config.disable_traceback_filtering()`\u001b[39;00m\n\u001b[1;32m--> 122\u001b[0m     \u001b[38;5;28;01mraise\u001b[39;00m e\u001b[38;5;241m.\u001b[39mwith_traceback(filtered_tb) \u001b[38;5;28;01mfrom\u001b[39;00m \u001b[38;5;28;01mNone\u001b[39;00m\n\u001b[0;32m    123\u001b[0m \u001b[38;5;28;01mfinally\u001b[39;00m:\n\u001b[0;32m    124\u001b[0m     \u001b[38;5;28;01mdel\u001b[39;00m filtered_tb\n",
      "File \u001b[1;32m~\\anaconda3\\Lib\\site-packages\\h5py\\_hl\\files.py:561\u001b[0m, in \u001b[0;36mFile.__init__\u001b[1;34m(self, name, mode, driver, libver, userblock_size, swmr, rdcc_nslots, rdcc_nbytes, rdcc_w0, track_order, fs_strategy, fs_persist, fs_threshold, fs_page_size, page_buf_size, min_meta_keep, min_raw_keep, locking, alignment_threshold, alignment_interval, meta_block_size, **kwds)\u001b[0m\n\u001b[0;32m    552\u001b[0m     fapl \u001b[38;5;241m=\u001b[39m make_fapl(driver, libver, rdcc_nslots, rdcc_nbytes, rdcc_w0,\n\u001b[0;32m    553\u001b[0m                      locking, page_buf_size, min_meta_keep, min_raw_keep,\n\u001b[0;32m    554\u001b[0m                      alignment_threshold\u001b[38;5;241m=\u001b[39malignment_threshold,\n\u001b[0;32m    555\u001b[0m                      alignment_interval\u001b[38;5;241m=\u001b[39malignment_interval,\n\u001b[0;32m    556\u001b[0m                      meta_block_size\u001b[38;5;241m=\u001b[39mmeta_block_size,\n\u001b[0;32m    557\u001b[0m                      \u001b[38;5;241m*\u001b[39m\u001b[38;5;241m*\u001b[39mkwds)\n\u001b[0;32m    558\u001b[0m     fcpl \u001b[38;5;241m=\u001b[39m make_fcpl(track_order\u001b[38;5;241m=\u001b[39mtrack_order, fs_strategy\u001b[38;5;241m=\u001b[39mfs_strategy,\n\u001b[0;32m    559\u001b[0m                      fs_persist\u001b[38;5;241m=\u001b[39mfs_persist, fs_threshold\u001b[38;5;241m=\u001b[39mfs_threshold,\n\u001b[0;32m    560\u001b[0m                      fs_page_size\u001b[38;5;241m=\u001b[39mfs_page_size)\n\u001b[1;32m--> 561\u001b[0m     fid \u001b[38;5;241m=\u001b[39m make_fid(name, mode, userblock_size, fapl, fcpl, swmr\u001b[38;5;241m=\u001b[39mswmr)\n\u001b[0;32m    563\u001b[0m \u001b[38;5;28;01mif\u001b[39;00m \u001b[38;5;28misinstance\u001b[39m(libver, \u001b[38;5;28mtuple\u001b[39m):\n\u001b[0;32m    564\u001b[0m     \u001b[38;5;28mself\u001b[39m\u001b[38;5;241m.\u001b[39m_libver \u001b[38;5;241m=\u001b[39m libver\n",
      "File \u001b[1;32m~\\anaconda3\\Lib\\site-packages\\h5py\\_hl\\files.py:235\u001b[0m, in \u001b[0;36mmake_fid\u001b[1;34m(name, mode, userblock_size, fapl, fcpl, swmr)\u001b[0m\n\u001b[0;32m    233\u001b[0m     \u001b[38;5;28;01mif\u001b[39;00m swmr \u001b[38;5;129;01mand\u001b[39;00m swmr_support:\n\u001b[0;32m    234\u001b[0m         flags \u001b[38;5;241m|\u001b[39m\u001b[38;5;241m=\u001b[39m h5f\u001b[38;5;241m.\u001b[39mACC_SWMR_READ\n\u001b[1;32m--> 235\u001b[0m     fid \u001b[38;5;241m=\u001b[39m h5f\u001b[38;5;241m.\u001b[39mopen(name, flags, fapl\u001b[38;5;241m=\u001b[39mfapl)\n\u001b[0;32m    236\u001b[0m \u001b[38;5;28;01melif\u001b[39;00m mode \u001b[38;5;241m==\u001b[39m \u001b[38;5;124m'\u001b[39m\u001b[38;5;124mr+\u001b[39m\u001b[38;5;124m'\u001b[39m:\n\u001b[0;32m    237\u001b[0m     fid \u001b[38;5;241m=\u001b[39m h5f\u001b[38;5;241m.\u001b[39mopen(name, h5f\u001b[38;5;241m.\u001b[39mACC_RDWR, fapl\u001b[38;5;241m=\u001b[39mfapl)\n",
      "File \u001b[1;32mh5py\\\\_objects.pyx:54\u001b[0m, in \u001b[0;36mh5py._objects.with_phil.wrapper\u001b[1;34m()\u001b[0m\n",
      "File \u001b[1;32mh5py\\\\_objects.pyx:55\u001b[0m, in \u001b[0;36mh5py._objects.with_phil.wrapper\u001b[1;34m()\u001b[0m\n",
      "File \u001b[1;32mh5py\\\\h5f.pyx:102\u001b[0m, in \u001b[0;36mh5py.h5f.open\u001b[1;34m()\u001b[0m\n",
      "\u001b[1;31mFileNotFoundError\u001b[0m: [Errno 2] Unable to synchronously open file (unable to open file: name = 'lenet_weights.hdf5', errno = 2, error message = 'No such file or directory', flags = 0, o_flags = 0)"
     ]
    }
   ],
   "source": [
    "import numpy as np\n",
    "import cv2\n",
    "from tensorflow.keras import models\n",
    "\n",
    "def test_model(model, image_path):\n",
    "    \"\"\"\n",
    "    Tests the trained model on a single image.\n",
    "    \n",
    "    Parameters:\n",
    "        model (tensorflow.keras.Model): The trained model.\n",
    "        image_path (str): Path to the test image.\n",
    "    \n",
    "    Returns:\n",
    "        int: Predicted class label.\n",
    "    \"\"\"\n",
    "    # Load the image in grayscale\n",
    "    img = cv2.imread(image_path, cv2.IMREAD_GRAYSCALE)\n",
    "    if img is None:\n",
    "        raise ValueError(f\"Error: Could not load image from '{image_path}'. Ensure the path is correct.\")\n",
    "\n",
    "    # Resize the image to 32x32\n",
    "    img_resized = cv2.resize(img, (32, 32))\n",
    "\n",
    "    # Normalize pixel values to [0, 1]\n",
    "    img_normalized = img_resized / 255.0\n",
    "\n",
    "    # Add batch and channel dimensions (1, 32, 32, 1)\n",
    "    img_input = img_normalized.reshape(1, 32, 32, 1)\n",
    "\n",
    "    # Make a prediction\n",
    "    predictions = model.predict(img_input)\n",
    "    predicted_class = np.argmax(predictions, axis=1)[0]\n",
    "\n",
    "    print(f\"Predicted class: {predicted_class}\")\n",
    "    return predicted_class\n",
    "\n",
    "# Example usage\n",
    "# Rebuild and reload the model if needed\n",
    "model = build_lenet()  # Use the function from the previous code\n",
    "model.load_weights('lenet_weights.hdf5')  # Load the trained weights (if saved earlier)\n",
    "\n",
    "# Path to the test image (e.g., from MNIST or your own dataset)\n",
    "test_image_path = \"pictures/img_0.jpg\"  # Replace with your image path\n",
    "\n",
    "# Test the model\n",
    "predicted_class = test_model(model, test_image_path)"
   ]
  },
  {
   "cell_type": "code",
   "execution_count": null,
   "id": "2d479f15-65ff-4522-899d-fd2ce341285e",
   "metadata": {},
   "outputs": [],
   "source": []
  },
  {
   "cell_type": "code",
   "execution_count": null,
   "id": "4642aa8f-7c8c-4f26-9b8f-69eb9edc9053",
   "metadata": {},
   "outputs": [],
   "source": []
  }
 ],
 "metadata": {
  "kernelspec": {
   "display_name": "Python 3 (ipykernel)",
   "language": "python",
   "name": "python3"
  },
  "language_info": {
   "codemirror_mode": {
    "name": "ipython",
    "version": 3
   },
   "file_extension": ".py",
   "mimetype": "text/x-python",
   "name": "python",
   "nbconvert_exporter": "python",
   "pygments_lexer": "ipython3",
   "version": "3.11.5"
  }
 },
 "nbformat": 4,
 "nbformat_minor": 5
}
