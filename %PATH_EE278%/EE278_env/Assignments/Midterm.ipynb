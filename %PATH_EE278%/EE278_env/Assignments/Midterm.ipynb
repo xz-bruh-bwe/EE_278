{
 "cells": [
  {
   "cell_type": "code",
   "execution_count": 1,
   "id": "39fabc88-264f-49c2-ba4e-511931d6311c",
   "metadata": {},
   "outputs": [
    {
     "name": "stdout",
     "output_type": "stream",
     "text": [
      "FFT: 1's\n",
      "[3.+0.j 0.+1.j 1.+0.j 0.-1.j]\n"
     ]
    }
   ],
   "source": [
    "import numpy as np\n",
    "\n",
    "# Define the input array\n",
    "data = np.array([1, 0, 1, 1])\n",
    "\n",
    "# Compute the FFT\n",
    "fft_result = np.fft.fft(data)\n",
    "\n",
    "# Print the result\n",
    "print(\"FFT: 1's\")\n",
    "print(fft_result)"
   ]
  },
  {
   "cell_type": "code",
   "execution_count": 14,
   "id": "65704fc0-606c-4d1f-a890-6672bbadfbaa",
   "metadata": {},
   "outputs": [
    {
     "name": "stdout",
     "output_type": "stream",
     "text": [
      "The 4-point FFT result is: 2.00+0.00j, 0.00+0.00j, -2.00+0.00j, 0.00+0.00j\n"
     ]
    }
   ],
   "source": [
    "import numpy as np\n",
    "\n",
    "# Define the input signal\n",
    "x = np.array([0, 1, 0, 1])  # Input sequence (1, 0, 1, 1)\n",
    "\n",
    "# Compute the 4-point FFT\n",
    "fft_result = np.fft.fft(x)\n",
    "\n",
    "# Format the output with commas\n",
    "formatted_result = \", \".join([f\"{val:.2f}\" for val in fft_result])  # You can adjust the precision as needed\n",
    "\n",
    "# Print the result\n",
    "print(f\"The 4-point FFT result is: {formatted_result}\")"
   ]
  },
  {
   "cell_type": "code",
   "execution_count": 21,
   "id": "4ebd573b-83f6-4dbe-8bdb-2c9afac9785e",
   "metadata": {},
   "outputs": [
    {
     "name": "stdout",
     "output_type": "stream",
     "text": [
      "FFT: 1's\n",
      "[2. +0.j         0.5-1.20710678j 0. +0.j         0.5-0.20710678j\n",
      " 0. +0.j         0.5+0.20710678j 0. +0.j         0.5+1.20710678j]\n"
     ]
    }
   ],
   "source": [
    "import numpy as np\n",
    "\n",
    "# Define the input array\n",
    "data = np.array([.5, .5, .5, .5, 0, 0, 0, 0 ])\n",
    "\n",
    "# Compute the FFT\n",
    "fft_result = np.fft.fft(data)\n",
    "\n",
    "# Print the result\n",
    "print(\"FFT: 1's\")\n",
    "print(fft_result)"
   ]
  }
 ],
 "metadata": {
  "kernelspec": {
   "display_name": "Python 3 (ipykernel)",
   "language": "python",
   "name": "python3"
  },
  "language_info": {
   "codemirror_mode": {
    "name": "ipython",
    "version": 3
   },
   "file_extension": ".py",
   "mimetype": "text/x-python",
   "name": "python",
   "nbconvert_exporter": "python",
   "pygments_lexer": "ipython3",
   "version": "3.11.5"
  }
 },
 "nbformat": 4,
 "nbformat_minor": 5
}
