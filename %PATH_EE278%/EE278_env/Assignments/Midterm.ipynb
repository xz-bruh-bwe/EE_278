{
 "cells": [
  {
   "cell_type": "code",
   "execution_count": 1,
   "id": "39fabc88-264f-49c2-ba4e-511931d6311c",
   "metadata": {},
   "outputs": [
    {
     "name": "stdout",
     "output_type": "stream",
     "text": [
      "FFT of [1, 1, 0, 0]:\n",
      "[2.+0.j 1.-1.j 0.+0.j 1.+1.j]\n"
     ]
    }
   ],
   "source": [
    "import numpy as np\n",
    "\n",
    "# Define the input array\n",
    "data = np.array([1, 1, 0, 0])\n",
    "\n",
    "# Compute the FFT\n",
    "fft_result = np.fft.fft(data)\n",
    "\n",
    "# Print the result\n",
    "print(\"FFT of [1, 1, 0, 0]:\")\n",
    "print(fft_result)"
   ]
  }
 ],
 "metadata": {
  "kernelspec": {
   "display_name": "Python 3 (ipykernel)",
   "language": "python",
   "name": "python3"
  },
  "language_info": {
   "codemirror_mode": {
    "name": "ipython",
    "version": 3
   },
   "file_extension": ".py",
   "mimetype": "text/x-python",
   "name": "python",
   "nbconvert_exporter": "python",
   "pygments_lexer": "ipython3",
   "version": "3.11.5"
  }
 },
 "nbformat": 4,
 "nbformat_minor": 5
}
